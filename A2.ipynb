{
 "cells": [
  {
   "cell_type": "markdown",
   "metadata": {
    "id": "2nbH8DiPfnFo"
   },
   "source": [
    "# Image Classification - The Multi-class Weather Dataset\n",
    "\n",
    "**Submission deadline: Friday 5 April, 11:55pm**\n",
    "\n",
    "**Assessment weight: 15% of the total unit assessment.**\n",
    "\n",
    "**Versions**\n",
    "\n",
    "- Wednesday 13 March: Initial release\n",
    "\n",
    "*Unless a Special Consideration request has been submitted and approved, a 5% penalty (of the total possible mark of the task) will be applied for each day a written report or presentation assessment is not submitted, up until the 7th day (including weekends). After the 7th day, a grade of ‘0’ will be awarded even if the assessment is submitted. The submission time for all uploaded assessments is **11:55 pm**. A 1-hour grace period will be provided to students who experience a technical concern. For any late submission of time-sensitive tasks, such as scheduled tests/exams, performance assessments/presentations, and/or scheduled practical assessments/labs, please apply for [Special Consideration](https://students.mq.edu.au/study/assessment-exams/special-consideration).*\n",
    "\n",
    "In this assignment you will complete tasks for an end-to-end image classification application. We will train and test the data using the Multi-class Weather Dataset (MWD):\n",
    "\n",
    "- https://data.mendeley.com/datasets/4drtyfjtfy/1\n",
    "\n",
    "The MWD contains labelled images representing various weather scenarios. It is a small and popular dataset for practice with image classification."
   ]
  },
  {
   "cell_type": "markdown",
   "metadata": {
    "id": "Hm9tgmOKfnFv"
   },
   "source": [
    "# Connect to GitHub Classroom\n",
    "\n",
    "Please follow these steps to connect:\n",
    "\n",
    "1. Follow this invitation link and accept the invitation: https://classroom.github.com/a/TGh1XJFW\n",
    "2. The link may ask you to sign in to GitHub (if you haven't signed in earlier). If you don't have a GitHub account, you will need to register.\n",
    "3. Once you have logged in with GitHub, you may need to select your email address to associate your GitHub account with your email address (if you haven't done it in a previous COMP3420 activity). If you can't find your email address, please skip this step and contact diego.molla-aliod@mq.edu.au so that he can do the association manually.\n",
    "4. Wait a minute or two, and refresh the browser until it indicates that your assignment repository has been created. Your repository is private to you, and you have administration privileges. Only you and the lecture will have access to it. The repository will be listed under the list of repositories belonging to this offering of COMP3420: https://github.com/orgs/COMP3420-2024S1/repositories\n",
    "5. In contrast with assignment 1 and the practical sessions, your assignment repository will be empty and will not include starter code. you need to add this Jupyter notebook and commit the changes.\n",
    "\n",
    "Please use the github repository linked to this GitHub classroom. Make sure that you continuously push commits and you provide useful commit comments. Note the following:\n",
    "\n",
    "*  **1 mark of the assessment of this assignment is related to good practice with the use of GitHub.**\n",
    "*  **We will also use github as a tool to check for possible plagiarism or contract cheating. For example, if someone only makes commits on the last day, we may investigate whether there was plagiarism or contract cheating.**\n"
   ]
  },
  {
   "cell_type": "markdown",
   "metadata": {
    "id": "d_eFY2j9fnFw"
   },
   "source": [
    "# Tasks\n",
    "## Task 1 - Data exploration, preparation, and partition (4 marks)\n",
    "\n",
    "Download the MWD from this site and unzip it:\n",
    "\n",
    "- https://data.mendeley.com/datasets/4drtyfjtfy/1\n",
    "\n",
    "You will observe that the zipped file contains 1,125 images representing various weather conditions. To facilitate the assessment of this assignment, please make sure that the images are in a folder named `dataset2` and this folder is in the same place as this jupyter notebook.\n",
    "\n",
    "### 1.1 - data partition (2 marks)\n",
    "\n",
    "Generate three CSV files named `my_training.csv`, `my_validation.csv`, and `my_test.csv` that partition the dataset into the training, validation, and test set. Each CSV file contains the following two fields:\n",
    "\n",
    "- File path\n",
    "- Image label\n",
    "\n",
    "For example, the file `my_training.csv` could start like this:\n",
    "\n",
    "```csv\n",
    "dataset2/cloudy1.jpg,cloudy\n",
    "dataset2/shine170.jpg,shine\n",
    "dataset2/shine116.jpg,shine\n",
    "```\n",
    "\n",
    "Make sure that the partitions are created randomly, so that the label distribution is similar in each partition. Also, make sure that the samples are sorted in no particular order (randomly)\n",
    "\n",
    "Display the label distribution of each partition, and display the first 10 rows of each partition.\n",
    "\n",
    "The following sample files are available together with these instructions. Your files should look similar to these.\n",
    "\n",
    "- `training.csv`\n",
    "- `validation.csv`\n",
    "- `test.csv`\n",
    "\n",
    "**For the subsequent tasks in this assignment, use the files we provide (`training.csv`, `validation.csv`, `test.csv`). Do not use the files that you have generated, so that any errors generated by your solution do not carry to the rest of the assignment. Also, the files we provide conveniently removed references to images that have a number of channels different from 3.**\n",
    "\n",
    "\n"
   ]
  },
  {
   "cell_type": "code",
   "execution_count": 1,
   "metadata": {
    "id": "4_xs5_xhfnFy"
   },
   "outputs": [],
   "source": [
    "# Importing all the essential libraries\n",
    "import numpy as np\n",
    "from matplotlib import pyplot as plt\n",
    "import random\n",
    "import pandas as pd\n",
    "import os"
   ]
  },
  {
   "cell_type": "markdown",
   "metadata": {},
   "source": [
    "## 1.1 Data Partitioning for Weather Condition Images"
   ]
  },
  {
   "cell_type": "code",
   "execution_count": 2,
   "metadata": {},
   "outputs": [
    {
     "data": {
      "text/plain": [
       "['dataset2/cloudy1.jpg',\n",
       " 'dataset2/cloudy10.jpg',\n",
       " 'dataset2/cloudy100.jpg',\n",
       " 'dataset2/cloudy101.jpg',\n",
       " 'dataset2/cloudy102.jpg',\n",
       " 'dataset2/cloudy103.jpg',\n",
       " 'dataset2/cloudy104.jpg',\n",
       " 'dataset2/cloudy105.jpg',\n",
       " 'dataset2/cloudy106.jpg',\n",
       " 'dataset2/cloudy107.jpg',\n",
       " 'dataset2/cloudy108.jpg',\n",
       " 'dataset2/cloudy109.jpg',\n",
       " 'dataset2/cloudy11.jpg',\n",
       " 'dataset2/cloudy110.jpg',\n",
       " 'dataset2/cloudy111.jpg',\n",
       " 'dataset2/cloudy112.jpg',\n",
       " 'dataset2/cloudy113.jpg',\n",
       " 'dataset2/cloudy114.jpg',\n",
       " 'dataset2/cloudy115.jpg',\n",
       " 'dataset2/cloudy116.jpg',\n",
       " 'dataset2/cloudy117.jpg',\n",
       " 'dataset2/cloudy118.jpg',\n",
       " 'dataset2/cloudy119.jpg',\n",
       " 'dataset2/cloudy12.jpg',\n",
       " 'dataset2/cloudy120.jpg',\n",
       " 'dataset2/cloudy121.jpg',\n",
       " 'dataset2/cloudy122.jpg',\n",
       " 'dataset2/cloudy123.jpg',\n",
       " 'dataset2/cloudy124.jpg',\n",
       " 'dataset2/cloudy125.jpg',\n",
       " 'dataset2/cloudy126.jpg',\n",
       " 'dataset2/cloudy127.jpg',\n",
       " 'dataset2/cloudy128.jpg',\n",
       " 'dataset2/cloudy129.jpg',\n",
       " 'dataset2/cloudy13.jpg',\n",
       " 'dataset2/cloudy130.jpg',\n",
       " 'dataset2/cloudy131.jpg',\n",
       " 'dataset2/cloudy132.jpg',\n",
       " 'dataset2/cloudy133.jpg',\n",
       " 'dataset2/cloudy134.jpg',\n",
       " 'dataset2/cloudy135.jpg',\n",
       " 'dataset2/cloudy136.jpg',\n",
       " 'dataset2/cloudy137.jpg',\n",
       " 'dataset2/cloudy138.jpg',\n",
       " 'dataset2/cloudy139.jpg',\n",
       " 'dataset2/cloudy14.jpg',\n",
       " 'dataset2/cloudy140.jpg',\n",
       " 'dataset2/cloudy141.jpg',\n",
       " 'dataset2/cloudy142.jpg',\n",
       " 'dataset2/cloudy143.jpg',\n",
       " 'dataset2/cloudy144.jpg',\n",
       " 'dataset2/cloudy145.jpg',\n",
       " 'dataset2/cloudy146.jpg',\n",
       " 'dataset2/cloudy147.jpg',\n",
       " 'dataset2/cloudy148.jpg',\n",
       " 'dataset2/cloudy149.jpg',\n",
       " 'dataset2/cloudy15.jpg',\n",
       " 'dataset2/cloudy150.jpg',\n",
       " 'dataset2/cloudy151.jpg',\n",
       " 'dataset2/cloudy152.jpg',\n",
       " 'dataset2/cloudy153.jpg',\n",
       " 'dataset2/cloudy154.jpg',\n",
       " 'dataset2/cloudy155.jpg',\n",
       " 'dataset2/cloudy156.jpg',\n",
       " 'dataset2/cloudy157.jpg',\n",
       " 'dataset2/cloudy158.jpg',\n",
       " 'dataset2/cloudy159.jpg',\n",
       " 'dataset2/cloudy16.jpg',\n",
       " 'dataset2/cloudy160.jpg',\n",
       " 'dataset2/cloudy161.jpg',\n",
       " 'dataset2/cloudy162.jpg',\n",
       " 'dataset2/cloudy163.jpg',\n",
       " 'dataset2/cloudy164.jpg',\n",
       " 'dataset2/cloudy165.jpg',\n",
       " 'dataset2/cloudy166.jpg',\n",
       " 'dataset2/cloudy167.jpg',\n",
       " 'dataset2/cloudy168.jpg',\n",
       " 'dataset2/cloudy169.jpg',\n",
       " 'dataset2/cloudy17.jpg',\n",
       " 'dataset2/cloudy170.jpg',\n",
       " 'dataset2/cloudy171.jpg',\n",
       " 'dataset2/cloudy172.jpg',\n",
       " 'dataset2/cloudy173.jpg',\n",
       " 'dataset2/cloudy174.jpg',\n",
       " 'dataset2/cloudy175.jpg',\n",
       " 'dataset2/cloudy176.jpg',\n",
       " 'dataset2/cloudy177.jpg',\n",
       " 'dataset2/cloudy178.jpg',\n",
       " 'dataset2/cloudy179.jpg',\n",
       " 'dataset2/cloudy18.jpg',\n",
       " 'dataset2/cloudy180.jpg',\n",
       " 'dataset2/cloudy181.jpg',\n",
       " 'dataset2/cloudy182.jpg',\n",
       " 'dataset2/cloudy183.jpg',\n",
       " 'dataset2/cloudy184.jpg',\n",
       " 'dataset2/cloudy185.jpg',\n",
       " 'dataset2/cloudy186.jpg',\n",
       " 'dataset2/cloudy187.jpg',\n",
       " 'dataset2/cloudy188.jpg',\n",
       " 'dataset2/cloudy189.jpg',\n",
       " 'dataset2/cloudy19.jpg',\n",
       " 'dataset2/cloudy190.jpg',\n",
       " 'dataset2/cloudy191.jpg',\n",
       " 'dataset2/cloudy192.jpg',\n",
       " 'dataset2/cloudy193.jpg',\n",
       " 'dataset2/cloudy194.jpg',\n",
       " 'dataset2/cloudy195.jpg',\n",
       " 'dataset2/cloudy196.jpg',\n",
       " 'dataset2/cloudy197.jpg',\n",
       " 'dataset2/cloudy198.jpg',\n",
       " 'dataset2/cloudy199.jpg',\n",
       " 'dataset2/cloudy2.jpg',\n",
       " 'dataset2/cloudy20.jpg',\n",
       " 'dataset2/cloudy200.jpg',\n",
       " 'dataset2/cloudy201.jpg',\n",
       " 'dataset2/cloudy202.jpg',\n",
       " 'dataset2/cloudy203.jpg',\n",
       " 'dataset2/cloudy204.jpg',\n",
       " 'dataset2/cloudy205.jpg',\n",
       " 'dataset2/cloudy206.jpg',\n",
       " 'dataset2/cloudy207.jpg',\n",
       " 'dataset2/cloudy208.jpg',\n",
       " 'dataset2/cloudy209.jpg',\n",
       " 'dataset2/cloudy21.jpg',\n",
       " 'dataset2/cloudy210.jpg',\n",
       " 'dataset2/cloudy211.jpg',\n",
       " 'dataset2/cloudy212.jpg',\n",
       " 'dataset2/cloudy213.jpg',\n",
       " 'dataset2/cloudy214.jpg',\n",
       " 'dataset2/cloudy215.jpg',\n",
       " 'dataset2/cloudy216.jpg',\n",
       " 'dataset2/cloudy217.jpg',\n",
       " 'dataset2/cloudy218.jpg',\n",
       " 'dataset2/cloudy219.jpg',\n",
       " 'dataset2/cloudy22.jpg',\n",
       " 'dataset2/cloudy220.jpg',\n",
       " 'dataset2/cloudy221.jpg',\n",
       " 'dataset2/cloudy222.jpg',\n",
       " 'dataset2/cloudy223.jpg',\n",
       " 'dataset2/cloudy224.jpg',\n",
       " 'dataset2/cloudy225.jpg',\n",
       " 'dataset2/cloudy226.jpg',\n",
       " 'dataset2/cloudy227.jpg',\n",
       " 'dataset2/cloudy228.jpg',\n",
       " 'dataset2/cloudy229.jpg',\n",
       " 'dataset2/cloudy23.jpg',\n",
       " 'dataset2/cloudy230.jpg',\n",
       " 'dataset2/cloudy231.jpg',\n",
       " 'dataset2/cloudy232.jpg',\n",
       " 'dataset2/cloudy233.jpg',\n",
       " 'dataset2/cloudy234.jpg',\n",
       " 'dataset2/cloudy235.jpg',\n",
       " 'dataset2/cloudy236.jpg',\n",
       " 'dataset2/cloudy237.jpg',\n",
       " 'dataset2/cloudy238.jpg',\n",
       " 'dataset2/cloudy239.jpg',\n",
       " 'dataset2/cloudy24.jpg',\n",
       " 'dataset2/cloudy240.jpg',\n",
       " 'dataset2/cloudy241.jpg',\n",
       " 'dataset2/cloudy242.jpg',\n",
       " 'dataset2/cloudy243.jpg',\n",
       " 'dataset2/cloudy244.jpg',\n",
       " 'dataset2/cloudy245.jpg',\n",
       " 'dataset2/cloudy246.jpg',\n",
       " 'dataset2/cloudy247.jpg',\n",
       " 'dataset2/cloudy248.jpg',\n",
       " 'dataset2/cloudy249.jpg',\n",
       " 'dataset2/cloudy25.jpg',\n",
       " 'dataset2/cloudy250.jpg',\n",
       " 'dataset2/cloudy251.jpg',\n",
       " 'dataset2/cloudy252.jpg',\n",
       " 'dataset2/cloudy253.jpg',\n",
       " 'dataset2/cloudy254.jpg',\n",
       " 'dataset2/cloudy255.jpg',\n",
       " 'dataset2/cloudy256.jpg',\n",
       " 'dataset2/cloudy257.jpg',\n",
       " 'dataset2/cloudy258.jpg',\n",
       " 'dataset2/cloudy259.jpg',\n",
       " 'dataset2/cloudy26.jpg',\n",
       " 'dataset2/cloudy260.jpg',\n",
       " 'dataset2/cloudy261.jpg',\n",
       " 'dataset2/cloudy262.jpg',\n",
       " 'dataset2/cloudy263.jpg',\n",
       " 'dataset2/cloudy264.jpg',\n",
       " 'dataset2/cloudy265.jpg',\n",
       " 'dataset2/cloudy266.jpg',\n",
       " 'dataset2/cloudy267.jpg',\n",
       " 'dataset2/cloudy268.jpg',\n",
       " 'dataset2/cloudy269.jpg',\n",
       " 'dataset2/cloudy27.jpg',\n",
       " 'dataset2/cloudy270.jpg',\n",
       " 'dataset2/cloudy271.jpg',\n",
       " 'dataset2/cloudy272.jpg',\n",
       " 'dataset2/cloudy273.jpg',\n",
       " 'dataset2/cloudy274.jpg',\n",
       " 'dataset2/cloudy275.jpg',\n",
       " 'dataset2/cloudy276.jpg',\n",
       " 'dataset2/cloudy277.jpg',\n",
       " 'dataset2/cloudy278.jpg',\n",
       " 'dataset2/cloudy279.jpg',\n",
       " 'dataset2/cloudy28.jpg',\n",
       " 'dataset2/cloudy280.jpg',\n",
       " 'dataset2/cloudy281.jpg',\n",
       " 'dataset2/cloudy282.jpg',\n",
       " 'dataset2/cloudy283.jpg',\n",
       " 'dataset2/cloudy284.jpg',\n",
       " 'dataset2/cloudy285.jpg',\n",
       " 'dataset2/cloudy286.jpg',\n",
       " 'dataset2/cloudy287.jpg',\n",
       " 'dataset2/cloudy288.jpg',\n",
       " 'dataset2/cloudy289.jpg',\n",
       " 'dataset2/cloudy29.jpg',\n",
       " 'dataset2/cloudy290.jpg',\n",
       " 'dataset2/cloudy291.jpg',\n",
       " 'dataset2/cloudy292.jpg',\n",
       " 'dataset2/cloudy293.jpg',\n",
       " 'dataset2/cloudy294.jpg',\n",
       " 'dataset2/cloudy295.jpg',\n",
       " 'dataset2/cloudy296.jpg',\n",
       " 'dataset2/cloudy297.jpg',\n",
       " 'dataset2/cloudy298.jpg',\n",
       " 'dataset2/cloudy299.jpg',\n",
       " 'dataset2/cloudy3.jpg',\n",
       " 'dataset2/cloudy30.jpg',\n",
       " 'dataset2/cloudy300.jpg',\n",
       " 'dataset2/cloudy31.jpg',\n",
       " 'dataset2/cloudy32.jpg',\n",
       " 'dataset2/cloudy33.jpg',\n",
       " 'dataset2/cloudy34.jpg',\n",
       " 'dataset2/cloudy35.jpg',\n",
       " 'dataset2/cloudy36.jpg',\n",
       " 'dataset2/cloudy37.jpg',\n",
       " 'dataset2/cloudy38.jpg',\n",
       " 'dataset2/cloudy39.jpg',\n",
       " 'dataset2/cloudy4.jpg',\n",
       " 'dataset2/cloudy40.jpg',\n",
       " 'dataset2/cloudy41.jpg',\n",
       " 'dataset2/cloudy42.jpg',\n",
       " 'dataset2/cloudy43.jpg',\n",
       " 'dataset2/cloudy44.jpg',\n",
       " 'dataset2/cloudy45.jpg',\n",
       " 'dataset2/cloudy46.jpg',\n",
       " 'dataset2/cloudy47.jpg',\n",
       " 'dataset2/cloudy48.jpg',\n",
       " 'dataset2/cloudy49.jpg',\n",
       " 'dataset2/cloudy5.jpg',\n",
       " 'dataset2/cloudy50.jpg',\n",
       " 'dataset2/cloudy51.jpg',\n",
       " 'dataset2/cloudy52.jpg',\n",
       " 'dataset2/cloudy53.jpg',\n",
       " 'dataset2/cloudy54.jpg',\n",
       " 'dataset2/cloudy55.jpg',\n",
       " 'dataset2/cloudy56.jpg',\n",
       " 'dataset2/cloudy57.jpg',\n",
       " 'dataset2/cloudy58.jpg',\n",
       " 'dataset2/cloudy59.jpg',\n",
       " 'dataset2/cloudy6.jpg',\n",
       " 'dataset2/cloudy60.jpg',\n",
       " 'dataset2/cloudy61.jpg',\n",
       " 'dataset2/cloudy62.jpg',\n",
       " 'dataset2/cloudy63.jpg',\n",
       " 'dataset2/cloudy64.jpg',\n",
       " 'dataset2/cloudy65.jpg',\n",
       " 'dataset2/cloudy66.jpg',\n",
       " 'dataset2/cloudy67.jpg',\n",
       " 'dataset2/cloudy68.jpg',\n",
       " 'dataset2/cloudy69.jpg',\n",
       " 'dataset2/cloudy7.jpg',\n",
       " 'dataset2/cloudy70.jpg',\n",
       " 'dataset2/cloudy71.jpg',\n",
       " 'dataset2/cloudy72.jpg',\n",
       " 'dataset2/cloudy73.jpg',\n",
       " 'dataset2/cloudy74.jpg',\n",
       " 'dataset2/cloudy75.jpg',\n",
       " 'dataset2/cloudy76.jpg',\n",
       " 'dataset2/cloudy77.jpg',\n",
       " 'dataset2/cloudy78.jpg',\n",
       " 'dataset2/cloudy79.jpg',\n",
       " 'dataset2/cloudy8.jpg',\n",
       " 'dataset2/cloudy80.jpg',\n",
       " 'dataset2/cloudy81.jpg',\n",
       " 'dataset2/cloudy82.jpg',\n",
       " 'dataset2/cloudy83.jpg',\n",
       " 'dataset2/cloudy84.jpg',\n",
       " 'dataset2/cloudy85.jpg',\n",
       " 'dataset2/cloudy86.jpg',\n",
       " 'dataset2/cloudy87.jpg',\n",
       " 'dataset2/cloudy88.jpg',\n",
       " 'dataset2/cloudy89.jpg',\n",
       " 'dataset2/cloudy9.jpg',\n",
       " 'dataset2/cloudy90.jpg',\n",
       " 'dataset2/cloudy91.jpg',\n",
       " 'dataset2/cloudy92.jpg',\n",
       " 'dataset2/cloudy93.jpg',\n",
       " 'dataset2/cloudy94.jpg',\n",
       " 'dataset2/cloudy95.jpg',\n",
       " 'dataset2/cloudy96.jpg',\n",
       " 'dataset2/cloudy97.jpg',\n",
       " 'dataset2/cloudy98.jpg',\n",
       " 'dataset2/cloudy99.jpg',\n",
       " 'dataset2/rain1.jpg',\n",
       " 'dataset2/rain10.jpg',\n",
       " 'dataset2/rain100.jpg',\n",
       " 'dataset2/rain101.jpg',\n",
       " 'dataset2/rain102.jpg',\n",
       " 'dataset2/rain103.jpg',\n",
       " 'dataset2/rain104.jpg',\n",
       " 'dataset2/rain105.jpg',\n",
       " 'dataset2/rain106.jpg',\n",
       " 'dataset2/rain107.jpg',\n",
       " 'dataset2/rain108.jpg',\n",
       " 'dataset2/rain109.jpg',\n",
       " 'dataset2/rain11.jpg',\n",
       " 'dataset2/rain110.jpg',\n",
       " 'dataset2/rain111.jpg',\n",
       " 'dataset2/rain112.jpg',\n",
       " 'dataset2/rain113.jpg',\n",
       " 'dataset2/rain114.jpg',\n",
       " 'dataset2/rain115.jpg',\n",
       " 'dataset2/rain116.jpg',\n",
       " 'dataset2/rain117.jpg',\n",
       " 'dataset2/rain118.jpg',\n",
       " 'dataset2/rain119.jpg',\n",
       " 'dataset2/rain12.jpg',\n",
       " 'dataset2/rain120.jpg',\n",
       " 'dataset2/rain121.jpg',\n",
       " 'dataset2/rain122.jpg',\n",
       " 'dataset2/rain123.jpg',\n",
       " 'dataset2/rain124.jpg',\n",
       " 'dataset2/rain125.jpg',\n",
       " 'dataset2/rain126.jpg',\n",
       " 'dataset2/rain127.jpg',\n",
       " 'dataset2/rain128.jpg',\n",
       " 'dataset2/rain129.jpg',\n",
       " 'dataset2/rain13.jpg',\n",
       " 'dataset2/rain130.jpg',\n",
       " 'dataset2/rain131.jpg',\n",
       " 'dataset2/rain132.jpg',\n",
       " 'dataset2/rain133.jpg',\n",
       " 'dataset2/rain134.jpg',\n",
       " 'dataset2/rain135.jpg',\n",
       " 'dataset2/rain136.jpg',\n",
       " 'dataset2/rain137.jpg',\n",
       " 'dataset2/rain138.jpg',\n",
       " 'dataset2/rain139.jpg',\n",
       " 'dataset2/rain14.jpg',\n",
       " 'dataset2/rain140.jpg',\n",
       " 'dataset2/rain141.jpg',\n",
       " 'dataset2/rain142.jpg',\n",
       " 'dataset2/rain143.jpg',\n",
       " 'dataset2/rain144.jpg',\n",
       " 'dataset2/rain145.jpg',\n",
       " 'dataset2/rain146.jpg',\n",
       " 'dataset2/rain147.jpg',\n",
       " 'dataset2/rain148.jpg',\n",
       " 'dataset2/rain149.jpg',\n",
       " 'dataset2/rain15.jpg',\n",
       " 'dataset2/rain150.jpg',\n",
       " 'dataset2/rain151.jpg',\n",
       " 'dataset2/rain152.jpg',\n",
       " 'dataset2/rain153.jpg',\n",
       " 'dataset2/rain154.jpg',\n",
       " 'dataset2/rain155.jpg',\n",
       " 'dataset2/rain156.jpg',\n",
       " 'dataset2/rain157.jpg',\n",
       " 'dataset2/rain158.jpg',\n",
       " 'dataset2/rain159.jpg',\n",
       " 'dataset2/rain16.jpg',\n",
       " 'dataset2/rain160.jpg',\n",
       " 'dataset2/rain161.jpg',\n",
       " 'dataset2/rain162.jpg',\n",
       " 'dataset2/rain163.jpg',\n",
       " 'dataset2/rain164.jpg',\n",
       " 'dataset2/rain165.jpg',\n",
       " 'dataset2/rain166.jpg',\n",
       " 'dataset2/rain167.jpg',\n",
       " 'dataset2/rain168.jpg',\n",
       " 'dataset2/rain169.jpg',\n",
       " 'dataset2/rain17.jpg',\n",
       " 'dataset2/rain170.jpg',\n",
       " 'dataset2/rain171.jpg',\n",
       " 'dataset2/rain172.jpg',\n",
       " 'dataset2/rain173.jpg',\n",
       " 'dataset2/rain174.jpg',\n",
       " 'dataset2/rain175.jpg',\n",
       " 'dataset2/rain176.jpg',\n",
       " 'dataset2/rain177.jpg',\n",
       " 'dataset2/rain178.jpg',\n",
       " 'dataset2/rain179.jpg',\n",
       " 'dataset2/rain18.jpg',\n",
       " 'dataset2/rain180.jpg',\n",
       " 'dataset2/rain181.jpg',\n",
       " 'dataset2/rain182.jpg',\n",
       " 'dataset2/rain183.jpg',\n",
       " 'dataset2/rain184.jpg',\n",
       " 'dataset2/rain185.jpg',\n",
       " 'dataset2/rain186.jpg',\n",
       " 'dataset2/rain187.jpg',\n",
       " 'dataset2/rain188.jpg',\n",
       " 'dataset2/rain189.jpg',\n",
       " 'dataset2/rain19.jpg',\n",
       " 'dataset2/rain190.jpg',\n",
       " 'dataset2/rain191.jpg',\n",
       " 'dataset2/rain192.jpg',\n",
       " 'dataset2/rain193.jpg',\n",
       " 'dataset2/rain194.jpg',\n",
       " 'dataset2/rain195.jpg',\n",
       " 'dataset2/rain196.jpg',\n",
       " 'dataset2/rain197.jpg',\n",
       " 'dataset2/rain198.jpg',\n",
       " 'dataset2/rain199.jpg',\n",
       " 'dataset2/rain2.jpg',\n",
       " 'dataset2/rain20.jpg',\n",
       " 'dataset2/rain200.jpg',\n",
       " 'dataset2/rain201.jpg',\n",
       " 'dataset2/rain202.jpg',\n",
       " 'dataset2/rain203.jpg',\n",
       " 'dataset2/rain204.jpg',\n",
       " 'dataset2/rain205.jpg',\n",
       " 'dataset2/rain206.jpg',\n",
       " 'dataset2/rain207.jpg',\n",
       " 'dataset2/rain208.jpg',\n",
       " 'dataset2/rain209.jpg',\n",
       " 'dataset2/rain21.jpg',\n",
       " 'dataset2/rain210.jpg',\n",
       " 'dataset2/rain211.jpg',\n",
       " 'dataset2/rain212.jpg',\n",
       " 'dataset2/rain213.jpg',\n",
       " 'dataset2/rain214.jpg',\n",
       " 'dataset2/rain215.jpg',\n",
       " 'dataset2/rain23.jpg',\n",
       " 'dataset2/rain25.jpg',\n",
       " 'dataset2/rain26.jpg',\n",
       " 'dataset2/rain27.jpg',\n",
       " 'dataset2/rain28.jpg',\n",
       " 'dataset2/rain29.jpg',\n",
       " 'dataset2/rain3.jpg',\n",
       " 'dataset2/rain30.jpg',\n",
       " 'dataset2/rain31.jpg',\n",
       " 'dataset2/rain32.jpg',\n",
       " 'dataset2/rain33.jpg',\n",
       " 'dataset2/rain34.jpg',\n",
       " 'dataset2/rain35.jpg',\n",
       " 'dataset2/rain36.jpg',\n",
       " 'dataset2/rain37.jpg',\n",
       " 'dataset2/rain38.jpg',\n",
       " 'dataset2/rain39.jpg',\n",
       " 'dataset2/rain4.jpg',\n",
       " 'dataset2/rain40.jpg',\n",
       " 'dataset2/rain41.jpg',\n",
       " 'dataset2/rain42.jpg',\n",
       " 'dataset2/rain43.jpg',\n",
       " 'dataset2/rain44.jpg',\n",
       " 'dataset2/rain45.jpg',\n",
       " 'dataset2/rain46.jpg',\n",
       " 'dataset2/rain47.jpg',\n",
       " 'dataset2/rain48.jpg',\n",
       " 'dataset2/rain49.jpg',\n",
       " 'dataset2/rain5.jpg',\n",
       " 'dataset2/rain50.jpg',\n",
       " 'dataset2/rain51.jpg',\n",
       " 'dataset2/rain52.jpg',\n",
       " 'dataset2/rain53.jpg',\n",
       " 'dataset2/rain54.jpg',\n",
       " 'dataset2/rain55.jpg',\n",
       " 'dataset2/rain56.jpg',\n",
       " 'dataset2/rain57.jpg',\n",
       " 'dataset2/rain58.jpg',\n",
       " 'dataset2/rain59.jpg',\n",
       " 'dataset2/rain6.jpg',\n",
       " 'dataset2/rain60.jpg',\n",
       " 'dataset2/rain61.jpg',\n",
       " 'dataset2/rain62.jpg',\n",
       " 'dataset2/rain63.jpg',\n",
       " 'dataset2/rain64.jpg',\n",
       " 'dataset2/rain65.jpg',\n",
       " 'dataset2/rain66.jpg',\n",
       " 'dataset2/rain67.jpg',\n",
       " 'dataset2/rain68.jpg',\n",
       " 'dataset2/rain69.jpg',\n",
       " 'dataset2/rain7.jpg',\n",
       " 'dataset2/rain70.jpg',\n",
       " 'dataset2/rain71.jpg',\n",
       " 'dataset2/rain72.jpg',\n",
       " 'dataset2/rain73.jpg',\n",
       " 'dataset2/rain74.jpg',\n",
       " 'dataset2/rain75.jpg',\n",
       " 'dataset2/rain76.jpg',\n",
       " 'dataset2/rain77.jpg',\n",
       " 'dataset2/rain78.jpg',\n",
       " 'dataset2/rain79.jpg',\n",
       " 'dataset2/rain8.jpg',\n",
       " 'dataset2/rain80.jpg',\n",
       " 'dataset2/rain81.jpg',\n",
       " 'dataset2/rain82.jpg',\n",
       " 'dataset2/rain83.jpg',\n",
       " 'dataset2/rain84.jpg',\n",
       " 'dataset2/rain85.jpg',\n",
       " 'dataset2/rain86.jpg',\n",
       " 'dataset2/rain87.jpg',\n",
       " 'dataset2/rain88.jpg',\n",
       " 'dataset2/rain89.jpg',\n",
       " 'dataset2/rain9.jpg',\n",
       " 'dataset2/rain90.jpg',\n",
       " 'dataset2/rain91.jpg',\n",
       " 'dataset2/rain92.jpg',\n",
       " 'dataset2/rain93.jpg',\n",
       " 'dataset2/rain94.jpg',\n",
       " 'dataset2/rain95.jpg',\n",
       " 'dataset2/rain96.jpg',\n",
       " 'dataset2/rain97.jpg',\n",
       " 'dataset2/rain98.jpg',\n",
       " 'dataset2/rain99.jpg',\n",
       " 'dataset2/shine1.jpg',\n",
       " 'dataset2/shine10.jpg',\n",
       " 'dataset2/shine100.jpg',\n",
       " 'dataset2/shine101.jpg',\n",
       " 'dataset2/shine102.jpg',\n",
       " 'dataset2/shine103.jpg',\n",
       " 'dataset2/shine104.jpg',\n",
       " 'dataset2/shine105.jpg',\n",
       " 'dataset2/shine106.jpg',\n",
       " 'dataset2/shine107.jpg',\n",
       " 'dataset2/shine108.jpg',\n",
       " 'dataset2/shine109.jpg',\n",
       " 'dataset2/shine11.jpg',\n",
       " 'dataset2/shine110.jpg',\n",
       " 'dataset2/shine111.jpg',\n",
       " 'dataset2/shine112.jpg',\n",
       " 'dataset2/shine113.jpg',\n",
       " 'dataset2/shine114.jpg',\n",
       " 'dataset2/shine115.jpg',\n",
       " 'dataset2/shine116.jpg',\n",
       " 'dataset2/shine117.jpg',\n",
       " 'dataset2/shine118.jpg',\n",
       " 'dataset2/shine119.jpg',\n",
       " 'dataset2/shine12.jpg',\n",
       " 'dataset2/shine120.jpg',\n",
       " 'dataset2/shine121.jpg',\n",
       " 'dataset2/shine122.jpg',\n",
       " 'dataset2/shine123.jpg',\n",
       " 'dataset2/shine124.jpg',\n",
       " 'dataset2/shine125.jpg',\n",
       " 'dataset2/shine126.jpg',\n",
       " 'dataset2/shine127.jpg',\n",
       " 'dataset2/shine128.jpg',\n",
       " 'dataset2/shine129.jpg',\n",
       " 'dataset2/shine13.jpg',\n",
       " 'dataset2/shine130.jpg',\n",
       " 'dataset2/shine131.jpg',\n",
       " 'dataset2/shine132.jpg',\n",
       " 'dataset2/shine133.jpg',\n",
       " 'dataset2/shine134.jpg',\n",
       " 'dataset2/shine135.jpg',\n",
       " 'dataset2/shine136.jpg',\n",
       " 'dataset2/shine137.jpg',\n",
       " 'dataset2/shine138.jpg',\n",
       " 'dataset2/shine139.jpg',\n",
       " 'dataset2/shine14.jpg',\n",
       " 'dataset2/shine140.jpg',\n",
       " 'dataset2/shine141.jpg',\n",
       " 'dataset2/shine142.jpg',\n",
       " 'dataset2/shine143.jpg',\n",
       " 'dataset2/shine144.jpg',\n",
       " 'dataset2/shine145.jpg',\n",
       " 'dataset2/shine146.jpg',\n",
       " 'dataset2/shine147.jpg',\n",
       " 'dataset2/shine148.jpg',\n",
       " 'dataset2/shine149.jpg',\n",
       " 'dataset2/shine15.jpg',\n",
       " 'dataset2/shine150.jpg',\n",
       " 'dataset2/shine151.jpg',\n",
       " 'dataset2/shine152.jpg',\n",
       " 'dataset2/shine153.jpg',\n",
       " 'dataset2/shine154.jpg',\n",
       " 'dataset2/shine155.jpg',\n",
       " 'dataset2/shine156.jpg',\n",
       " 'dataset2/shine157.jpg',\n",
       " 'dataset2/shine158.jpg',\n",
       " 'dataset2/shine159.jpg',\n",
       " 'dataset2/shine16.jpg',\n",
       " 'dataset2/shine160.jpg',\n",
       " 'dataset2/shine161.jpg',\n",
       " 'dataset2/shine162.jpg',\n",
       " 'dataset2/shine163.jpg',\n",
       " 'dataset2/shine164.jpg',\n",
       " 'dataset2/shine165.jpg',\n",
       " 'dataset2/shine166.jpg',\n",
       " 'dataset2/shine167.jpg',\n",
       " 'dataset2/shine168.jpg',\n",
       " 'dataset2/shine169.jpg',\n",
       " 'dataset2/shine17.jpg',\n",
       " 'dataset2/shine170.jpg',\n",
       " 'dataset2/shine171.jpg',\n",
       " 'dataset2/shine172.jpg',\n",
       " 'dataset2/shine173.jpg',\n",
       " 'dataset2/shine174.jpg',\n",
       " 'dataset2/shine175.jpg',\n",
       " 'dataset2/shine176.jpg',\n",
       " 'dataset2/shine177.jpg',\n",
       " 'dataset2/shine178.jpg',\n",
       " 'dataset2/shine179.jpg',\n",
       " 'dataset2/shine18.jpg',\n",
       " 'dataset2/shine180.jpg',\n",
       " 'dataset2/shine181.jpg',\n",
       " 'dataset2/shine182.jpg',\n",
       " 'dataset2/shine183.jpg',\n",
       " 'dataset2/shine184.jpg',\n",
       " 'dataset2/shine185.jpg',\n",
       " 'dataset2/shine186.jpg',\n",
       " 'dataset2/shine187.jpg',\n",
       " 'dataset2/shine188.jpg',\n",
       " 'dataset2/shine189.jpg',\n",
       " 'dataset2/shine19.jpg',\n",
       " 'dataset2/shine190.jpg',\n",
       " 'dataset2/shine191.jpg',\n",
       " 'dataset2/shine192.jpg',\n",
       " 'dataset2/shine193.jpg',\n",
       " 'dataset2/shine194.jpg',\n",
       " 'dataset2/shine195.jpg',\n",
       " 'dataset2/shine196.jpg',\n",
       " 'dataset2/shine197.jpg',\n",
       " 'dataset2/shine198.jpg',\n",
       " 'dataset2/shine199.jpg',\n",
       " 'dataset2/shine2.jpg',\n",
       " 'dataset2/shine20.jpg',\n",
       " 'dataset2/shine200.jpg',\n",
       " 'dataset2/shine201.jpg',\n",
       " 'dataset2/shine202.jpg',\n",
       " 'dataset2/shine203.jpg',\n",
       " 'dataset2/shine204.jpg',\n",
       " 'dataset2/shine205.jpg',\n",
       " 'dataset2/shine206.jpg',\n",
       " 'dataset2/shine207.jpg',\n",
       " 'dataset2/shine208.jpg',\n",
       " 'dataset2/shine209.jpg',\n",
       " 'dataset2/shine21.jpg',\n",
       " 'dataset2/shine210.jpg',\n",
       " 'dataset2/shine211.jpg',\n",
       " 'dataset2/shine212.jpg',\n",
       " 'dataset2/shine213.jpg',\n",
       " 'dataset2/shine214.jpg',\n",
       " 'dataset2/shine215.jpg',\n",
       " 'dataset2/shine216.jpg',\n",
       " 'dataset2/shine217.jpg',\n",
       " 'dataset2/shine218.jpg',\n",
       " 'dataset2/shine219.jpg',\n",
       " 'dataset2/shine22.jpg',\n",
       " 'dataset2/shine220.jpg',\n",
       " 'dataset2/shine221.jpg',\n",
       " 'dataset2/shine222.jpg',\n",
       " 'dataset2/shine223.jpg',\n",
       " 'dataset2/shine224.jpg',\n",
       " 'dataset2/shine225.jpg',\n",
       " 'dataset2/shine226.jpg',\n",
       " 'dataset2/shine227.jpg',\n",
       " 'dataset2/shine228.jpg',\n",
       " 'dataset2/shine229.jpg',\n",
       " 'dataset2/shine23.jpg',\n",
       " 'dataset2/shine230.jpg',\n",
       " 'dataset2/shine231.jpg',\n",
       " 'dataset2/shine232.jpg',\n",
       " 'dataset2/shine233.jpg',\n",
       " 'dataset2/shine234.jpg',\n",
       " 'dataset2/shine235.jpg',\n",
       " 'dataset2/shine236.jpg',\n",
       " 'dataset2/shine237.jpg',\n",
       " 'dataset2/shine238.jpg',\n",
       " 'dataset2/shine239.jpg',\n",
       " 'dataset2/shine24.jpg',\n",
       " 'dataset2/shine240.jpg',\n",
       " 'dataset2/shine241.jpg',\n",
       " 'dataset2/shine242.jpg',\n",
       " 'dataset2/shine243.jpg',\n",
       " 'dataset2/shine244.jpg',\n",
       " 'dataset2/shine245.jpg',\n",
       " 'dataset2/shine246.jpg',\n",
       " 'dataset2/shine247.jpg',\n",
       " 'dataset2/shine248.jpg',\n",
       " 'dataset2/shine249.jpg',\n",
       " 'dataset2/shine25.jpg',\n",
       " 'dataset2/shine250.jpg',\n",
       " 'dataset2/shine251.jpg',\n",
       " 'dataset2/shine252.jpg',\n",
       " 'dataset2/shine253.jpg',\n",
       " 'dataset2/shine26.jpg',\n",
       " 'dataset2/shine27.jpg',\n",
       " 'dataset2/shine28.jpg',\n",
       " 'dataset2/shine29.jpg',\n",
       " 'dataset2/shine3.jpg',\n",
       " 'dataset2/shine30.jpg',\n",
       " 'dataset2/shine31.jpg',\n",
       " 'dataset2/shine32.jpg',\n",
       " 'dataset2/shine33.jpg',\n",
       " 'dataset2/shine34.jpg',\n",
       " 'dataset2/shine35.jpg',\n",
       " 'dataset2/shine36.jpg',\n",
       " 'dataset2/shine37.jpg',\n",
       " 'dataset2/shine38.jpg',\n",
       " 'dataset2/shine39.jpg',\n",
       " 'dataset2/shine4.jpg',\n",
       " 'dataset2/shine40.jpg',\n",
       " 'dataset2/shine41.jpg',\n",
       " 'dataset2/shine42.jpg',\n",
       " 'dataset2/shine43.jpg',\n",
       " 'dataset2/shine44.jpg',\n",
       " 'dataset2/shine45.jpg',\n",
       " 'dataset2/shine46.jpg',\n",
       " 'dataset2/shine47.jpg',\n",
       " 'dataset2/shine48.jpg',\n",
       " 'dataset2/shine49.jpg',\n",
       " 'dataset2/shine5.jpg',\n",
       " 'dataset2/shine50.jpg',\n",
       " 'dataset2/shine51.jpg',\n",
       " 'dataset2/shine52.jpg',\n",
       " 'dataset2/shine53.jpg',\n",
       " 'dataset2/shine54.jpg',\n",
       " 'dataset2/shine55.jpg',\n",
       " 'dataset2/shine56.jpg',\n",
       " 'dataset2/shine57.jpg',\n",
       " 'dataset2/shine58.jpg',\n",
       " 'dataset2/shine59.jpg',\n",
       " 'dataset2/shine6.jpg',\n",
       " 'dataset2/shine60.jpg',\n",
       " 'dataset2/shine61.jpg',\n",
       " 'dataset2/shine62.jpg',\n",
       " 'dataset2/shine63.jpg',\n",
       " 'dataset2/shine64.jpg',\n",
       " 'dataset2/shine65.jpg',\n",
       " 'dataset2/shine66.jpg',\n",
       " 'dataset2/shine67.jpg',\n",
       " 'dataset2/shine68.jpg',\n",
       " 'dataset2/shine69.jpg',\n",
       " 'dataset2/shine7.jpg',\n",
       " 'dataset2/shine70.jpg',\n",
       " 'dataset2/shine71.jpg',\n",
       " 'dataset2/shine72.jpg',\n",
       " 'dataset2/shine73.jpg',\n",
       " 'dataset2/shine74.jpg',\n",
       " 'dataset2/shine75.jpg',\n",
       " 'dataset2/shine76.jpg',\n",
       " 'dataset2/shine77.jpg',\n",
       " 'dataset2/shine78.jpg',\n",
       " 'dataset2/shine79.jpg',\n",
       " 'dataset2/shine8.jpg',\n",
       " 'dataset2/shine80.jpg',\n",
       " 'dataset2/shine81.jpg',\n",
       " 'dataset2/shine82.jpg',\n",
       " 'dataset2/shine83.jpg',\n",
       " 'dataset2/shine84.jpg',\n",
       " 'dataset2/shine85.jpg',\n",
       " 'dataset2/shine86.jpg',\n",
       " 'dataset2/shine87.jpg',\n",
       " 'dataset2/shine88.jpg',\n",
       " 'dataset2/shine89.jpg',\n",
       " 'dataset2/shine9.jpg',\n",
       " 'dataset2/shine90.jpg',\n",
       " 'dataset2/shine91.jpg',\n",
       " 'dataset2/shine92.jpg',\n",
       " 'dataset2/shine93.jpg',\n",
       " 'dataset2/shine94.jpg',\n",
       " 'dataset2/shine95.jpg',\n",
       " 'dataset2/shine96.jpg',\n",
       " 'dataset2/shine97.jpg',\n",
       " 'dataset2/shine98.jpg',\n",
       " 'dataset2/shine99.jpg',\n",
       " 'dataset2/sunrise1.jpg',\n",
       " 'dataset2/sunrise10.jpg',\n",
       " 'dataset2/sunrise100.jpg',\n",
       " 'dataset2/sunrise101.jpg',\n",
       " 'dataset2/sunrise102.jpg',\n",
       " 'dataset2/sunrise103.jpg',\n",
       " 'dataset2/sunrise104.jpg',\n",
       " 'dataset2/sunrise105.jpg',\n",
       " 'dataset2/sunrise106.jpg',\n",
       " 'dataset2/sunrise107.jpg',\n",
       " 'dataset2/sunrise108.jpg',\n",
       " 'dataset2/sunrise109.jpg',\n",
       " 'dataset2/sunrise11.jpg',\n",
       " 'dataset2/sunrise110.jpg',\n",
       " 'dataset2/sunrise111.jpg',\n",
       " 'dataset2/sunrise112.jpg',\n",
       " 'dataset2/sunrise113.jpg',\n",
       " 'dataset2/sunrise114.jpg',\n",
       " 'dataset2/sunrise115.jpg',\n",
       " 'dataset2/sunrise116.jpg',\n",
       " 'dataset2/sunrise117.jpg',\n",
       " 'dataset2/sunrise118.jpg',\n",
       " 'dataset2/sunrise119.jpg',\n",
       " 'dataset2/sunrise12.jpg',\n",
       " 'dataset2/sunrise120.jpg',\n",
       " 'dataset2/sunrise121.jpg',\n",
       " 'dataset2/sunrise122.jpg',\n",
       " 'dataset2/sunrise123.jpg',\n",
       " 'dataset2/sunrise124.jpg',\n",
       " 'dataset2/sunrise125.jpg',\n",
       " 'dataset2/sunrise126.jpg',\n",
       " 'dataset2/sunrise127.jpg',\n",
       " 'dataset2/sunrise128.jpg',\n",
       " 'dataset2/sunrise129.jpg',\n",
       " 'dataset2/sunrise13.jpg',\n",
       " 'dataset2/sunrise130.jpg',\n",
       " 'dataset2/sunrise131.jpg',\n",
       " 'dataset2/sunrise132.jpg',\n",
       " 'dataset2/sunrise133.jpg',\n",
       " 'dataset2/sunrise134.jpg',\n",
       " 'dataset2/sunrise135.jpg',\n",
       " 'dataset2/sunrise136.jpg',\n",
       " 'dataset2/sunrise137.jpg',\n",
       " 'dataset2/sunrise138.jpg',\n",
       " 'dataset2/sunrise139.jpg',\n",
       " 'dataset2/sunrise14.jpg',\n",
       " 'dataset2/sunrise140.jpg',\n",
       " 'dataset2/sunrise141.jpg',\n",
       " 'dataset2/sunrise142.jpg',\n",
       " 'dataset2/sunrise143.jpg',\n",
       " 'dataset2/sunrise144.jpg',\n",
       " 'dataset2/sunrise145.jpg',\n",
       " 'dataset2/sunrise146.jpg',\n",
       " 'dataset2/sunrise147.jpg',\n",
       " 'dataset2/sunrise148.jpg',\n",
       " 'dataset2/sunrise149.jpg',\n",
       " 'dataset2/sunrise15.jpg',\n",
       " 'dataset2/sunrise150.jpg',\n",
       " 'dataset2/sunrise151.jpg',\n",
       " 'dataset2/sunrise152.jpg',\n",
       " 'dataset2/sunrise153.jpg',\n",
       " 'dataset2/sunrise154.jpg',\n",
       " 'dataset2/sunrise155.jpg',\n",
       " 'dataset2/sunrise156.jpg',\n",
       " 'dataset2/sunrise157.jpg',\n",
       " 'dataset2/sunrise158.jpg',\n",
       " 'dataset2/sunrise159.jpg',\n",
       " 'dataset2/sunrise16.jpg',\n",
       " 'dataset2/sunrise160.jpg',\n",
       " 'dataset2/sunrise161.jpg',\n",
       " 'dataset2/sunrise162.jpg',\n",
       " 'dataset2/sunrise163.jpg',\n",
       " 'dataset2/sunrise164.jpg',\n",
       " 'dataset2/sunrise165.jpg',\n",
       " 'dataset2/sunrise166.jpg',\n",
       " 'dataset2/sunrise167.jpg',\n",
       " 'dataset2/sunrise168.jpg',\n",
       " 'dataset2/sunrise169.jpg',\n",
       " 'dataset2/sunrise17.jpg',\n",
       " 'dataset2/sunrise170.jpg',\n",
       " 'dataset2/sunrise171.jpg',\n",
       " 'dataset2/sunrise172.jpg',\n",
       " 'dataset2/sunrise173.jpg',\n",
       " 'dataset2/sunrise174.jpg',\n",
       " 'dataset2/sunrise175.jpg',\n",
       " 'dataset2/sunrise176.jpg',\n",
       " 'dataset2/sunrise177.jpg',\n",
       " 'dataset2/sunrise178.jpg',\n",
       " 'dataset2/sunrise179.jpg',\n",
       " 'dataset2/sunrise18.jpg',\n",
       " 'dataset2/sunrise180.jpg',\n",
       " 'dataset2/sunrise181.jpg',\n",
       " 'dataset2/sunrise182.jpg',\n",
       " 'dataset2/sunrise183.jpg',\n",
       " 'dataset2/sunrise184.jpg',\n",
       " 'dataset2/sunrise185.jpg',\n",
       " 'dataset2/sunrise186.jpg',\n",
       " 'dataset2/sunrise187.jpg',\n",
       " 'dataset2/sunrise188.jpg',\n",
       " 'dataset2/sunrise189.jpg',\n",
       " 'dataset2/sunrise19.jpg',\n",
       " 'dataset2/sunrise190.jpg',\n",
       " 'dataset2/sunrise191.jpg',\n",
       " 'dataset2/sunrise192.jpg',\n",
       " 'dataset2/sunrise193.jpg',\n",
       " 'dataset2/sunrise194.jpg',\n",
       " 'dataset2/sunrise195.jpg',\n",
       " 'dataset2/sunrise196.jpg',\n",
       " 'dataset2/sunrise197.jpg',\n",
       " 'dataset2/sunrise198.jpg',\n",
       " 'dataset2/sunrise199.jpg',\n",
       " 'dataset2/sunrise2.jpg',\n",
       " 'dataset2/sunrise20.jpg',\n",
       " 'dataset2/sunrise200.jpg',\n",
       " 'dataset2/sunrise201.jpg',\n",
       " 'dataset2/sunrise202.jpg',\n",
       " 'dataset2/sunrise203.jpg',\n",
       " 'dataset2/sunrise204.jpg',\n",
       " 'dataset2/sunrise205.jpg',\n",
       " 'dataset2/sunrise206.jpg',\n",
       " 'dataset2/sunrise207.jpg',\n",
       " 'dataset2/sunrise208.jpg',\n",
       " 'dataset2/sunrise209.jpg',\n",
       " 'dataset2/sunrise21.jpg',\n",
       " 'dataset2/sunrise210.jpg',\n",
       " 'dataset2/sunrise211.jpg',\n",
       " 'dataset2/sunrise212.jpg',\n",
       " 'dataset2/sunrise213.jpg',\n",
       " 'dataset2/sunrise214.jpg',\n",
       " 'dataset2/sunrise215.jpg',\n",
       " 'dataset2/sunrise216.jpg',\n",
       " 'dataset2/sunrise217.jpg',\n",
       " 'dataset2/sunrise218.jpg',\n",
       " 'dataset2/sunrise219.jpg',\n",
       " 'dataset2/sunrise22.jpg',\n",
       " 'dataset2/sunrise220.jpg',\n",
       " 'dataset2/sunrise221.jpg',\n",
       " 'dataset2/sunrise222.jpg',\n",
       " 'dataset2/sunrise223.jpg',\n",
       " 'dataset2/sunrise224.jpg',\n",
       " 'dataset2/sunrise225.jpg',\n",
       " 'dataset2/sunrise226.jpg',\n",
       " 'dataset2/sunrise227.jpg',\n",
       " 'dataset2/sunrise228.jpg',\n",
       " 'dataset2/sunrise229.jpg',\n",
       " 'dataset2/sunrise23.jpg',\n",
       " 'dataset2/sunrise230.jpg',\n",
       " 'dataset2/sunrise231.jpg',\n",
       " 'dataset2/sunrise232.jpg',\n",
       " 'dataset2/sunrise233.jpg',\n",
       " 'dataset2/sunrise234.jpg',\n",
       " 'dataset2/sunrise235.jpg',\n",
       " 'dataset2/sunrise236.jpg',\n",
       " 'dataset2/sunrise237.jpg',\n",
       " 'dataset2/sunrise238.jpg',\n",
       " 'dataset2/sunrise239.jpg',\n",
       " 'dataset2/sunrise24.jpg',\n",
       " 'dataset2/sunrise240.jpg',\n",
       " 'dataset2/sunrise241.jpg',\n",
       " 'dataset2/sunrise242.jpg',\n",
       " 'dataset2/sunrise243.jpg',\n",
       " 'dataset2/sunrise244.jpg',\n",
       " 'dataset2/sunrise245.jpg',\n",
       " 'dataset2/sunrise246.jpg',\n",
       " 'dataset2/sunrise247.jpg',\n",
       " 'dataset2/sunrise248.jpg',\n",
       " 'dataset2/sunrise249.jpg',\n",
       " 'dataset2/sunrise25.jpg',\n",
       " 'dataset2/sunrise250.jpg',\n",
       " 'dataset2/sunrise251.jpg',\n",
       " 'dataset2/sunrise252.jpg',\n",
       " 'dataset2/sunrise253.jpg',\n",
       " 'dataset2/sunrise254.jpg',\n",
       " 'dataset2/sunrise255.jpg',\n",
       " 'dataset2/sunrise256.jpg',\n",
       " 'dataset2/sunrise257.jpg',\n",
       " 'dataset2/sunrise258.jpg',\n",
       " 'dataset2/sunrise259.jpg',\n",
       " 'dataset2/sunrise26.jpg',\n",
       " 'dataset2/sunrise260.jpg',\n",
       " 'dataset2/sunrise261.jpg',\n",
       " 'dataset2/sunrise262.jpg',\n",
       " 'dataset2/sunrise263.jpg',\n",
       " 'dataset2/sunrise264.jpg',\n",
       " 'dataset2/sunrise265.jpg',\n",
       " 'dataset2/sunrise266.jpg',\n",
       " 'dataset2/sunrise267.jpg',\n",
       " 'dataset2/sunrise268.jpg',\n",
       " 'dataset2/sunrise269.jpg',\n",
       " 'dataset2/sunrise27.jpg',\n",
       " 'dataset2/sunrise270.jpg',\n",
       " 'dataset2/sunrise271.jpg',\n",
       " 'dataset2/sunrise272.jpg',\n",
       " 'dataset2/sunrise273.jpg',\n",
       " 'dataset2/sunrise274.jpg',\n",
       " 'dataset2/sunrise275.jpg',\n",
       " 'dataset2/sunrise276.jpg',\n",
       " 'dataset2/sunrise277.jpg',\n",
       " 'dataset2/sunrise278.jpg',\n",
       " 'dataset2/sunrise279.jpg',\n",
       " 'dataset2/sunrise28.jpg',\n",
       " 'dataset2/sunrise280.jpg',\n",
       " 'dataset2/sunrise281.jpg',\n",
       " 'dataset2/sunrise282.jpg',\n",
       " 'dataset2/sunrise283.jpg',\n",
       " 'dataset2/sunrise284.jpg',\n",
       " 'dataset2/sunrise285.jpg',\n",
       " 'dataset2/sunrise286.jpg',\n",
       " 'dataset2/sunrise287.jpg',\n",
       " 'dataset2/sunrise288.jpg',\n",
       " 'dataset2/sunrise289.jpg',\n",
       " 'dataset2/sunrise29.jpg',\n",
       " 'dataset2/sunrise290.jpg',\n",
       " 'dataset2/sunrise291.jpg',\n",
       " 'dataset2/sunrise292.jpg',\n",
       " 'dataset2/sunrise293.jpg',\n",
       " 'dataset2/sunrise294.jpg',\n",
       " 'dataset2/sunrise295.jpg',\n",
       " 'dataset2/sunrise296.jpg',\n",
       " 'dataset2/sunrise297.jpg',\n",
       " 'dataset2/sunrise298.jpg',\n",
       " 'dataset2/sunrise299.jpg',\n",
       " 'dataset2/sunrise3.jpg',\n",
       " 'dataset2/sunrise30.jpg',\n",
       " 'dataset2/sunrise300.jpg',\n",
       " 'dataset2/sunrise301.jpg',\n",
       " 'dataset2/sunrise302.jpg',\n",
       " 'dataset2/sunrise303.jpg',\n",
       " 'dataset2/sunrise304.jpg',\n",
       " 'dataset2/sunrise305.jpg',\n",
       " 'dataset2/sunrise306.jpg',\n",
       " 'dataset2/sunrise307.jpg',\n",
       " 'dataset2/sunrise308.jpg',\n",
       " 'dataset2/sunrise309.jpg',\n",
       " ...]"
      ]
     },
     "execution_count": 2,
     "metadata": {},
     "output_type": "execute_result"
    }
   ],
   "source": [
    "# Gather all image file paths from the dataset2 folder\n",
    "image_files = [('dataset2' +'/'+ file_name) for file_name in os.listdir('dataset2') if file_name.endswith('.jpg')]\n",
    "image_files"
   ]
  },
  {
   "cell_type": "code",
   "execution_count": 3,
   "metadata": {},
   "outputs": [
    {
     "name": "stdout",
     "output_type": "stream",
     "text": [
      "['sunrise', 'shine', 'rain', 'cloudy']\n"
     ]
    }
   ],
   "source": [
    "# Extracting unique labels by removing numbers and file extensions from file names\n",
    "unique_labels = {file_path.split('/')[-1].rstrip('0123456789.jpg') for file_path in image_files}\n",
    "\n",
    "unique_labels = list(unique_labels)  # Convert the set to a list \n",
    "\n",
    "# Print the list of unique labels\n",
    "print(unique_labels)"
   ]
  },
  {
   "cell_type": "markdown",
   "metadata": {},
   "source": [
    "Setting a random seed for reproducibility ensures that the results of an algorithm or model can be consistently reproduced across different runs. When the random seed is set, I am essentially initializing the random number generator (RNG) with a fixed starting point, which means that the sequence of random numbers it generates will be the same each time the code is run."
   ]
  },
  {
   "cell_type": "code",
   "execution_count": 4,
   "metadata": {},
   "outputs": [],
   "source": [
    "# Shuffling the image file paths to ensure random distribution\n",
    "random.seed(42)  # Seed for reproducibility of results\n",
    "random.shuffle(image_files)"
   ]
  },
  {
   "cell_type": "code",
   "execution_count": 5,
   "metadata": {},
   "outputs": [],
   "source": [
    "# Determining the number of images for training, validation, and testing\n",
    "total_samples = len(image_files)\n",
    "train_split = int(0.7 * total_samples)  # 70% of images for training\n",
    "val_split = int(0.85 * total_samples)  # Additional 15% for validation\n"
   ]
  },
  {
   "cell_type": "code",
   "execution_count": 6,
   "metadata": {},
   "outputs": [],
   "source": [
    "# Splitting the image file paths into training, validation, and test sets\n",
    "train_set = image_files[:train_split]\n",
    "val_set = image_files[train_split:val_split]\n",
    "test_set = image_files[val_split:]\n"
   ]
  },
  {
   "cell_type": "code",
   "execution_count": 7,
   "metadata": {},
   "outputs": [],
   "source": [
    "# Function to create a CSV file from the list of image file paths\n",
    "def create_csv(file_list, file_name):\n",
    "    with open(file_name, 'w') as f:\n",
    "        f.write('File path,Image label\\n')\n",
    "        for file_path in file_list:\n",
    "            # Extract the label from the file path\n",
    "            label = file_path.split('/')[-1]\n",
    "            label=label.split('.')[0]\n",
    "            label = ''.join([i for i in label if not i.isdigit()])\n",
    "            f.write(f'{file_path},{label}\\n')\n",
    "\n",
    "# Create CSV files for the training, validation, and test sets\n",
    "create_csv(train_set, 'my_training.csv')\n",
    "create_csv(val_set, 'my_validation.csv')\n",
    "create_csv(test_set, 'my_test.csv')\n",
    "\n"
   ]
  },
  {
   "cell_type": "code",
   "execution_count": 8,
   "metadata": {},
   "outputs": [
    {
     "name": "stdout",
     "output_type": "stream",
     "text": [
      "Label distribution for my_training.csv:\n",
      "Image label\n",
      "sunrise    245\n",
      "cloudy     211\n",
      "shine      181\n",
      "rain       148\n",
      "Name: count, dtype: int64\n",
      "\n",
      "First 10 rows of my_training.csv:\n",
      "                 File path Image label\n",
      "0   dataset2/sunrise15.jpg     sunrise\n",
      "1     dataset2/shine78.jpg       shine\n",
      "2    dataset2/cloudy81.jpg      cloudy\n",
      "3    dataset2/shine223.jpg       shine\n",
      "4    dataset2/shine212.jpg       shine\n",
      "5  dataset2/sunrise122.jpg     sunrise\n",
      "6     dataset2/rain191.jpg        rain\n",
      "7   dataset2/cloudy123.jpg      cloudy\n",
      "8   dataset2/sunrise35.jpg     sunrise\n",
      "9  dataset2/sunrise138.jpg     sunrise\n"
     ]
    }
   ],
   "source": [
    "# Function to display label distribution and the first 10 rows of each partition\n",
    "def display_info(csv_file):\n",
    "    df = pd.read_csv(csv_file)\n",
    "    print(f\"Label distribution for {csv_file}:\")\n",
    "    print(df['Image label'].value_counts())\n",
    "    print(f\"\\nFirst 10 rows of {csv_file}:\")\n",
    "    print(df.head(10))\n",
    "\n",
    "# Displaying information for the training, validation, and test CSV files\n",
    "display_info('my_training.csv')\n"
   ]
  },
  {
   "cell_type": "code",
   "execution_count": 9,
   "metadata": {},
   "outputs": [
    {
     "name": "stdout",
     "output_type": "stream",
     "text": [
      "Label distribution for my_validation.csv:\n",
      "Image label\n",
      "sunrise    54\n",
      "cloudy     49\n",
      "shine      36\n",
      "rain       29\n",
      "Name: count, dtype: int64\n",
      "\n",
      "First 10 rows of my_validation.csv:\n",
      "                 File path Image label\n",
      "0   dataset2/cloudy173.jpg      cloudy\n",
      "1    dataset2/shine105.jpg       shine\n",
      "2  dataset2/sunrise124.jpg     sunrise\n",
      "3  dataset2/sunrise305.jpg     sunrise\n",
      "4   dataset2/sunrise28.jpg     sunrise\n",
      "5     dataset2/shine10.jpg       shine\n",
      "6      dataset2/rain77.jpg        rain\n",
      "7    dataset2/shine176.jpg       shine\n",
      "8  dataset2/sunrise162.jpg     sunrise\n",
      "9   dataset2/cloudy151.jpg      cloudy\n"
     ]
    }
   ],
   "source": [
    "display_info('my_validation.csv')\n"
   ]
  },
  {
   "cell_type": "code",
   "execution_count": 10,
   "metadata": {},
   "outputs": [
    {
     "name": "stdout",
     "output_type": "stream",
     "text": [
      "Label distribution for my_test.csv:\n",
      "Image label\n",
      "sunrise    57\n",
      "cloudy     40\n",
      "rain       36\n",
      "shine      36\n",
      "Name: count, dtype: int64\n",
      "\n",
      "First 10 rows of my_test.csv:\n",
      "                 File path Image label\n",
      "0     dataset2/rain111.jpg        rain\n",
      "1  dataset2/sunrise153.jpg     sunrise\n",
      "2  dataset2/sunrise176.jpg     sunrise\n",
      "3  dataset2/sunrise219.jpg     sunrise\n",
      "4     dataset2/rain163.jpg        rain\n",
      "5  dataset2/sunrise266.jpg     sunrise\n",
      "6  dataset2/sunrise308.jpg     sunrise\n",
      "7   dataset2/cloudy116.jpg      cloudy\n",
      "8      dataset2/rain88.jpg        rain\n",
      "9     dataset2/rain127.jpg        rain\n"
     ]
    }
   ],
   "source": [
    "display_info('my_test.csv')\n"
   ]
  },
  {
   "cell_type": "code",
   "execution_count": 11,
   "metadata": {},
   "outputs": [
    {
     "name": "stdout",
     "output_type": "stream",
     "text": [
      "\n",
      "First 10 rows of my_training.csv:\n"
     ]
    },
    {
     "data": {
      "text/html": [
       "<div>\n",
       "<style scoped>\n",
       "    .dataframe tbody tr th:only-of-type {\n",
       "        vertical-align: middle;\n",
       "    }\n",
       "\n",
       "    .dataframe tbody tr th {\n",
       "        vertical-align: top;\n",
       "    }\n",
       "\n",
       "    .dataframe thead th {\n",
       "        text-align: right;\n",
       "    }\n",
       "</style>\n",
       "<table border=\"1\" class=\"dataframe\">\n",
       "  <thead>\n",
       "    <tr style=\"text-align: right;\">\n",
       "      <th></th>\n",
       "      <th>File path</th>\n",
       "      <th>Image label</th>\n",
       "    </tr>\n",
       "  </thead>\n",
       "  <tbody>\n",
       "    <tr>\n",
       "      <th>0</th>\n",
       "      <td>dataset2/sunrise15.jpg</td>\n",
       "      <td>sunrise</td>\n",
       "    </tr>\n",
       "    <tr>\n",
       "      <th>1</th>\n",
       "      <td>dataset2/shine78.jpg</td>\n",
       "      <td>shine</td>\n",
       "    </tr>\n",
       "    <tr>\n",
       "      <th>2</th>\n",
       "      <td>dataset2/cloudy81.jpg</td>\n",
       "      <td>cloudy</td>\n",
       "    </tr>\n",
       "    <tr>\n",
       "      <th>3</th>\n",
       "      <td>dataset2/shine223.jpg</td>\n",
       "      <td>shine</td>\n",
       "    </tr>\n",
       "    <tr>\n",
       "      <th>4</th>\n",
       "      <td>dataset2/shine212.jpg</td>\n",
       "      <td>shine</td>\n",
       "    </tr>\n",
       "    <tr>\n",
       "      <th>5</th>\n",
       "      <td>dataset2/sunrise122.jpg</td>\n",
       "      <td>sunrise</td>\n",
       "    </tr>\n",
       "    <tr>\n",
       "      <th>6</th>\n",
       "      <td>dataset2/rain191.jpg</td>\n",
       "      <td>rain</td>\n",
       "    </tr>\n",
       "    <tr>\n",
       "      <th>7</th>\n",
       "      <td>dataset2/cloudy123.jpg</td>\n",
       "      <td>cloudy</td>\n",
       "    </tr>\n",
       "    <tr>\n",
       "      <th>8</th>\n",
       "      <td>dataset2/sunrise35.jpg</td>\n",
       "      <td>sunrise</td>\n",
       "    </tr>\n",
       "    <tr>\n",
       "      <th>9</th>\n",
       "      <td>dataset2/sunrise138.jpg</td>\n",
       "      <td>sunrise</td>\n",
       "    </tr>\n",
       "  </tbody>\n",
       "</table>\n",
       "</div>"
      ],
      "text/plain": [
       "                 File path Image label\n",
       "0   dataset2/sunrise15.jpg     sunrise\n",
       "1     dataset2/shine78.jpg       shine\n",
       "2    dataset2/cloudy81.jpg      cloudy\n",
       "3    dataset2/shine223.jpg       shine\n",
       "4    dataset2/shine212.jpg       shine\n",
       "5  dataset2/sunrise122.jpg     sunrise\n",
       "6     dataset2/rain191.jpg        rain\n",
       "7   dataset2/cloudy123.jpg      cloudy\n",
       "8   dataset2/sunrise35.jpg     sunrise\n",
       "9  dataset2/sunrise138.jpg     sunrise"
      ]
     },
     "metadata": {},
     "output_type": "display_data"
    },
    {
     "name": "stdout",
     "output_type": "stream",
     "text": [
      "\n",
      "First 10 rows of my_validation.csv:\n"
     ]
    },
    {
     "data": {
      "text/html": [
       "<div>\n",
       "<style scoped>\n",
       "    .dataframe tbody tr th:only-of-type {\n",
       "        vertical-align: middle;\n",
       "    }\n",
       "\n",
       "    .dataframe tbody tr th {\n",
       "        vertical-align: top;\n",
       "    }\n",
       "\n",
       "    .dataframe thead th {\n",
       "        text-align: right;\n",
       "    }\n",
       "</style>\n",
       "<table border=\"1\" class=\"dataframe\">\n",
       "  <thead>\n",
       "    <tr style=\"text-align: right;\">\n",
       "      <th></th>\n",
       "      <th>File path</th>\n",
       "      <th>Image label</th>\n",
       "    </tr>\n",
       "  </thead>\n",
       "  <tbody>\n",
       "    <tr>\n",
       "      <th>0</th>\n",
       "      <td>dataset2/cloudy173.jpg</td>\n",
       "      <td>cloudy</td>\n",
       "    </tr>\n",
       "    <tr>\n",
       "      <th>1</th>\n",
       "      <td>dataset2/shine105.jpg</td>\n",
       "      <td>shine</td>\n",
       "    </tr>\n",
       "    <tr>\n",
       "      <th>2</th>\n",
       "      <td>dataset2/sunrise124.jpg</td>\n",
       "      <td>sunrise</td>\n",
       "    </tr>\n",
       "    <tr>\n",
       "      <th>3</th>\n",
       "      <td>dataset2/sunrise305.jpg</td>\n",
       "      <td>sunrise</td>\n",
       "    </tr>\n",
       "    <tr>\n",
       "      <th>4</th>\n",
       "      <td>dataset2/sunrise28.jpg</td>\n",
       "      <td>sunrise</td>\n",
       "    </tr>\n",
       "    <tr>\n",
       "      <th>5</th>\n",
       "      <td>dataset2/shine10.jpg</td>\n",
       "      <td>shine</td>\n",
       "    </tr>\n",
       "    <tr>\n",
       "      <th>6</th>\n",
       "      <td>dataset2/rain77.jpg</td>\n",
       "      <td>rain</td>\n",
       "    </tr>\n",
       "    <tr>\n",
       "      <th>7</th>\n",
       "      <td>dataset2/shine176.jpg</td>\n",
       "      <td>shine</td>\n",
       "    </tr>\n",
       "    <tr>\n",
       "      <th>8</th>\n",
       "      <td>dataset2/sunrise162.jpg</td>\n",
       "      <td>sunrise</td>\n",
       "    </tr>\n",
       "    <tr>\n",
       "      <th>9</th>\n",
       "      <td>dataset2/cloudy151.jpg</td>\n",
       "      <td>cloudy</td>\n",
       "    </tr>\n",
       "  </tbody>\n",
       "</table>\n",
       "</div>"
      ],
      "text/plain": [
       "                 File path Image label\n",
       "0   dataset2/cloudy173.jpg      cloudy\n",
       "1    dataset2/shine105.jpg       shine\n",
       "2  dataset2/sunrise124.jpg     sunrise\n",
       "3  dataset2/sunrise305.jpg     sunrise\n",
       "4   dataset2/sunrise28.jpg     sunrise\n",
       "5     dataset2/shine10.jpg       shine\n",
       "6      dataset2/rain77.jpg        rain\n",
       "7    dataset2/shine176.jpg       shine\n",
       "8  dataset2/sunrise162.jpg     sunrise\n",
       "9   dataset2/cloudy151.jpg      cloudy"
      ]
     },
     "metadata": {},
     "output_type": "display_data"
    },
    {
     "name": "stdout",
     "output_type": "stream",
     "text": [
      "\n",
      "First 10 rows of my_test.csv:\n"
     ]
    },
    {
     "data": {
      "text/html": [
       "<div>\n",
       "<style scoped>\n",
       "    .dataframe tbody tr th:only-of-type {\n",
       "        vertical-align: middle;\n",
       "    }\n",
       "\n",
       "    .dataframe tbody tr th {\n",
       "        vertical-align: top;\n",
       "    }\n",
       "\n",
       "    .dataframe thead th {\n",
       "        text-align: right;\n",
       "    }\n",
       "</style>\n",
       "<table border=\"1\" class=\"dataframe\">\n",
       "  <thead>\n",
       "    <tr style=\"text-align: right;\">\n",
       "      <th></th>\n",
       "      <th>File path</th>\n",
       "      <th>Image label</th>\n",
       "    </tr>\n",
       "  </thead>\n",
       "  <tbody>\n",
       "    <tr>\n",
       "      <th>0</th>\n",
       "      <td>dataset2/rain111.jpg</td>\n",
       "      <td>rain</td>\n",
       "    </tr>\n",
       "    <tr>\n",
       "      <th>1</th>\n",
       "      <td>dataset2/sunrise153.jpg</td>\n",
       "      <td>sunrise</td>\n",
       "    </tr>\n",
       "    <tr>\n",
       "      <th>2</th>\n",
       "      <td>dataset2/sunrise176.jpg</td>\n",
       "      <td>sunrise</td>\n",
       "    </tr>\n",
       "    <tr>\n",
       "      <th>3</th>\n",
       "      <td>dataset2/sunrise219.jpg</td>\n",
       "      <td>sunrise</td>\n",
       "    </tr>\n",
       "    <tr>\n",
       "      <th>4</th>\n",
       "      <td>dataset2/rain163.jpg</td>\n",
       "      <td>rain</td>\n",
       "    </tr>\n",
       "    <tr>\n",
       "      <th>5</th>\n",
       "      <td>dataset2/sunrise266.jpg</td>\n",
       "      <td>sunrise</td>\n",
       "    </tr>\n",
       "    <tr>\n",
       "      <th>6</th>\n",
       "      <td>dataset2/sunrise308.jpg</td>\n",
       "      <td>sunrise</td>\n",
       "    </tr>\n",
       "    <tr>\n",
       "      <th>7</th>\n",
       "      <td>dataset2/cloudy116.jpg</td>\n",
       "      <td>cloudy</td>\n",
       "    </tr>\n",
       "    <tr>\n",
       "      <th>8</th>\n",
       "      <td>dataset2/rain88.jpg</td>\n",
       "      <td>rain</td>\n",
       "    </tr>\n",
       "    <tr>\n",
       "      <th>9</th>\n",
       "      <td>dataset2/rain127.jpg</td>\n",
       "      <td>rain</td>\n",
       "    </tr>\n",
       "  </tbody>\n",
       "</table>\n",
       "</div>"
      ],
      "text/plain": [
       "                 File path Image label\n",
       "0     dataset2/rain111.jpg        rain\n",
       "1  dataset2/sunrise153.jpg     sunrise\n",
       "2  dataset2/sunrise176.jpg     sunrise\n",
       "3  dataset2/sunrise219.jpg     sunrise\n",
       "4     dataset2/rain163.jpg        rain\n",
       "5  dataset2/sunrise266.jpg     sunrise\n",
       "6  dataset2/sunrise308.jpg     sunrise\n",
       "7   dataset2/cloudy116.jpg      cloudy\n",
       "8      dataset2/rain88.jpg        rain\n",
       "9     dataset2/rain127.jpg        rain"
      ]
     },
     "metadata": {},
     "output_type": "display_data"
    }
   ],
   "source": [
    "import pandas as pd\n",
    "from IPython.display import display\n",
    "\n",
    "# Function to create a DataFrame from a CSV file and display label distribution\n",
    "def display_csv_info(csv_filename):\n",
    "    # Reading the CSV file into a DataFrame\n",
    "    df = pd.read_csv(csv_filename)\n",
    "    # Displaying the label distribution and the first 10 rows of the DataFrame\n",
    "    print(f\"\\nFirst 10 rows of {csv_filename}:\")\n",
    "    display(df.head(10))\n",
    "\n",
    "# Displaying the information for each CSV file in a structured format\n",
    "display_csv_info('my_training.csv')\n",
    "display_csv_info('my_validation.csv')\n",
    "display_csv_info('my_test.csv')\n"
   ]
  },
  {
   "cell_type": "markdown",
   "metadata": {
    "id": "T04RQSn6fnF2"
   },
   "source": [
    "### 1.2 - preprocessing and preparation (2 marks)\n",
    "\n",
    "Use TensorFlow's `TextLineDataset` to generate datasets for training, validation, and test. The datasets need to produce images that are re-sized to dimensions 230 x 230 and 3 channels, and the values of the pixels must be normalised to the range [0, 1].\n"
   ]
  },
  {
   "cell_type": "markdown",
   "metadata": {},
   "source": [
    "## 1.2 Image Preprocessing and Dataset Preparation"
   ]
  },
  {
   "cell_type": "code",
   "execution_count": 12,
   "metadata": {
    "id": "0p0bHC1zfnF3"
   },
   "outputs": [],
   "source": [
    "# Set the image dimensions and number of channels\n",
    "IMG_HEIGHT = 230\n",
    "IMG_WIDTH = 230\n",
    "IMG_CHANNELS = 3\n",
    "CLASS_NAMES=unique_labels\n"
   ]
  },
  {
   "cell_type": "code",
   "execution_count": 13,
   "metadata": {},
   "outputs": [],
   "source": [
    "import tensorflow as tf\n",
    "# Preprocessing function to resize images and normalize pixel values\n",
    "def preprocess_image(filename, reshape_dims):\n",
    "    # Reading the image file\n",
    "    img = tf.io.read_file(filename)\n",
    "    # Decoding the image to a uint8 tensor and ensuring 3 color channels\n",
    "    img = tf.image.decode_jpeg(img, channels=IMG_CHANNELS)\n",
    "    # Using `convert_image_dtype` to convert to floats in the [0,1] range.\n",
    "    img = tf.image.convert_image_dtype(img, tf.float32)\n",
    "    # Resizing the image to the desired size\n",
    "    img = tf.image.resize(img, reshape_dims)\n",
    "    return img\n",
    "\n",
    "# Function to parse the CSV line and return image and label\n",
    "def decode_csv(csv_row):\n",
    "    record_defaults = [\"path\", \"label\"]\n",
    "    filename, label_string = tf.io.decode_csv(csv_row, record_defaults)\n",
    "    img = preprocess_image(filename,  [IMG_HEIGHT, IMG_WIDTH])\n",
    "    label = tf.math.equal(CLASS_NAMES, label_string)\n",
    "    return img, label\n",
    "# Setting the batch size for the datasets\n",
    "batch_size=32\n",
    "# Creating a training dataset from the CSV file\n",
    "train_dataset = (tf.data.TextLineDataset(\n",
    "\"training.csv\").\n",
    "map(decode_csv)).batch(batch_size)\n",
    "# Creating a validation dataset from the CSV file\n",
    "eval_dataset = (tf.data.TextLineDataset(\n",
    "\"validation.csv\").\n",
    "map(decode_csv)).batch(batch_size)\n",
    "# Creating a test dataset from the CSV file\n",
    "test_dataset=(tf.data.TextLineDataset(\n",
    "\"test.csv\").\n",
    "map(decode_csv)).batch(batch_size)"
   ]
  },
  {
   "cell_type": "code",
   "execution_count": 14,
   "metadata": {},
   "outputs": [
    {
     "name": "stdout",
     "output_type": "stream",
     "text": [
      "(32, 230, 230, 3)\n",
      "tf.Tensor(\n",
      "[[False  True False False]\n",
      " [False  True False False]\n",
      " [False False False  True]\n",
      " [ True False False False]\n",
      " [False  True False False]\n",
      " [ True False False False]\n",
      " [False False False  True]\n",
      " [ True False False False]\n",
      " [False False False  True]\n",
      " [False False False  True]\n",
      " [False  True False False]\n",
      " [ True False False False]\n",
      " [ True False False False]\n",
      " [False False  True False]\n",
      " [ True False False False]\n",
      " [ True False False False]\n",
      " [ True False False False]\n",
      " [False False False  True]\n",
      " [False False False  True]\n",
      " [False False False  True]\n",
      " [False  True False False]\n",
      " [False False False  True]\n",
      " [False  True False False]\n",
      " [False False False  True]\n",
      " [ True False False False]\n",
      " [ True False False False]\n",
      " [False False False  True]\n",
      " [ True False False False]\n",
      " [False  True False False]\n",
      " [False  True False False]\n",
      " [False  True False False]\n",
      " [False  True False False]], shape=(32, 4), dtype=bool)\n"
     ]
    }
   ],
   "source": [
    "# iterating over the dataset\n",
    "for images, labels in train_dataset.take(1):\n",
    "    print(images.shape)  # Expected output: (batch_size, IMG_HEIGHT, IMG_WIDTH, IMG_CHANNELS)\n",
    "    print(labels) \n",
    "\n"
   ]
  },
  {
   "cell_type": "code",
   "execution_count": 38,
   "metadata": {},
   "outputs": [
    {
     "name": "stdout",
     "output_type": "stream",
     "text": [
      "(32, 230, 230, 3)\n",
      "Min pixel value: 0.0\n",
      "Max pixel value: 1.0\n"
     ]
    }
   ],
   "source": [
    "for images, labels in train_dataset.take(1):\n",
    "    print(images.shape)  # This should be (batch_size, IMG_HEIGHT, IMG_WIDTH, IMG_CHANNELS)\n",
    "    # Print the minimum and maximum pixel values to check normalization\n",
    "    print(\"Min pixel value:\", np.min(images.numpy()))\n",
    "    print(\"Max pixel value:\", np.max(images.numpy()))\n"
   ]
  },
  {
   "cell_type": "markdown",
   "metadata": {
    "id": "kJMFW8x2fnF5"
   },
   "source": [
    "## Task 2 - A simple classifier (4 marks)\n",
    "\n",
    "### 2.1 First classifier (1 mark)\n",
    "\n",
    "Create a simple model that contains the following layers:\n",
    "\n",
    "- A `Flatten` layer.\n",
    "- The output layer with the correct size and activation function for this classification task.\n",
    "\n",
    "Then, train the model with the training data. Use the validation data to determine when to stop training. Finally, test the trained model on the test data and report the accuracy."
   ]
  },
  {
   "cell_type": "markdown",
   "metadata": {},
   "source": [
    "## 2.1 Building and Training a Simple Classifier"
   ]
  },
  {
   "cell_type": "code",
   "execution_count": 15,
   "metadata": {
    "id": "BV93NDzefnF5"
   },
   "outputs": [
    {
     "name": "stdout",
     "output_type": "stream",
     "text": [
      "Epoch 1/5\n"
     ]
    },
    {
     "name": "stderr",
     "output_type": "stream",
     "text": [
      "C:\\Users\\tahan\\AppData\\Local\\Packages\\PythonSoftwareFoundation.Python.3.11_qbz5n2kfra8p0\\LocalCache\\local-packages\\Python311\\site-packages\\keras\\src\\layers\\reshaping\\flatten.py:37: UserWarning: Do not pass an `input_shape`/`input_dim` argument to a layer. When using Sequential models, prefer using an `Input(shape)` object as the first layer in the model instead.\n",
      "  super().__init__(**kwargs)\n"
     ]
    },
    {
     "name": "stdout",
     "output_type": "stream",
     "text": [
      "     25/Unknown \u001b[1m2s\u001b[0m 37ms/step - accuracy: 0.3635 - loss: 76.2422"
     ]
    },
    {
     "name": "stderr",
     "output_type": "stream",
     "text": [
      "C:\\Program Files\\WindowsApps\\PythonSoftwareFoundation.Python.3.11_3.11.2288.0_x64__qbz5n2kfra8p0\\Lib\\contextlib.py:158: UserWarning: Your input ran out of data; interrupting training. Make sure that your dataset or generator can generate at least `steps_per_epoch * epochs` batches. You may need to use the `.repeat()` function when building your dataset.\n",
      "  self.gen.throw(typ, value, traceback)\n"
     ]
    },
    {
     "name": "stdout",
     "output_type": "stream",
     "text": [
      "\u001b[1m25/25\u001b[0m \u001b[32m━━━━━━━━━━━━━━━━━━━━\u001b[0m\u001b[37m\u001b[0m \u001b[1m3s\u001b[0m 67ms/step - accuracy: 0.3669 - loss: 75.3128 - val_accuracy: 0.6587 - val_loss: 8.5857\n",
      "Epoch 2/5\n",
      "\u001b[1m25/25\u001b[0m \u001b[32m━━━━━━━━━━━━━━━━━━━━\u001b[0m\u001b[37m\u001b[0m \u001b[1m1s\u001b[0m 46ms/step - accuracy: 0.5995 - loss: 21.5314 - val_accuracy: 0.5329 - val_loss: 26.9615\n"
     ]
    },
    {
     "data": {
      "text/plain": [
       "<keras.src.callbacks.history.History at 0x1f7e7d54550>"
      ]
     },
     "execution_count": 15,
     "metadata": {},
     "output_type": "execute_result"
    }
   ],
   "source": [
    "import keras\n",
    "import keras_tuner as kt\n",
    "from keras import models\n",
    "from keras import layers\n",
    "from keras.layers import Dense, Activation, Flatten\n",
    "\n",
    "# Initializing a Sequential model\n",
    "first_classifier = models.Sequential(name=\"Weather_classifier\")\n",
    "\n",
    "# Adding a Flatten layer of the specified input shape\n",
    "first_classifier.add(layers.Flatten(input_shape=(IMG_HEIGHT, IMG_WIDTH, IMG_CHANNELS)))\n",
    "        \n",
    "# Adding the final output layer with the specified size and activation function\n",
    "first_classifier.add(layers.Dense(len(CLASS_NAMES), activation='softmax')) \n",
    "\n",
    "# Compiling the model with optimizer, loss function, and metrics\n",
    "first_classifier.compile(optimizer='rmsprop',loss='categorical_crossentropy', metrics=['accuracy'])\n",
    "\n",
    "# Training the model using the training dataset with early stopping \n",
    "first_classifier.fit(train_dataset, validation_data=eval_dataset, epochs=5, callbacks=[keras.callbacks.EarlyStopping(patience=1)])\n"
   ]
  },
  {
   "cell_type": "code",
   "execution_count": 16,
   "metadata": {},
   "outputs": [
    {
     "name": "stdout",
     "output_type": "stream",
     "text": [
      "\u001b[1m6/6\u001b[0m \u001b[32m━━━━━━━━━━━━━━━━━━━━\u001b[0m\u001b[37m\u001b[0m \u001b[1m0s\u001b[0m 21ms/step - accuracy: 0.5007 - loss: 33.8953\n",
      "Test accuracy: 0.538\n",
      "\u001b[1m25/25\u001b[0m \u001b[32m━━━━━━━━━━━━━━━━━━━━\u001b[0m\u001b[37m\u001b[0m \u001b[1m1s\u001b[0m 26ms/step - accuracy: 0.5232 - loss: 35.1402\n",
      "Training accuracy: 0.544\n"
     ]
    }
   ],
   "source": [
    "# Evaluate the model on the test dataset and print the test accuracy\n",
    "test_loss, test_acc = first_classifier.evaluate(test_dataset, batch_size=128)\n",
    "print(f\"Test accuracy: {test_acc:.3f}\")\n",
    "\n",
    "# Evaluate the model on the training dataset and print the training accuracy\n",
    "train_loss, train_acc = first_classifier.evaluate(train_dataset, batch_size=128)\n",
    "print(f\"Training accuracy: {train_acc:.3f}\")"
   ]
  },
  {
   "cell_type": "code",
   "execution_count": 17,
   "metadata": {},
   "outputs": [
    {
     "data": {
      "text/html": [
       "<pre style=\"white-space:pre;overflow-x:auto;line-height:normal;font-family:Menlo,'DejaVu Sans Mono',consolas,'Courier New',monospace\"><span style=\"font-weight: bold\">Model: \"Weather_classifier\"</span>\n",
       "</pre>\n"
      ],
      "text/plain": [
       "\u001b[1mModel: \"Weather_classifier\"\u001b[0m\n"
      ]
     },
     "metadata": {},
     "output_type": "display_data"
    },
    {
     "data": {
      "text/html": [
       "<pre style=\"white-space:pre;overflow-x:auto;line-height:normal;font-family:Menlo,'DejaVu Sans Mono',consolas,'Courier New',monospace\">┏━━━━━━━━━━━━━━━━━━━━━━━━━━━━━━━━━┳━━━━━━━━━━━━━━━━━━━━━━━━┳━━━━━━━━━━━━━━━┓\n",
       "┃<span style=\"font-weight: bold\"> Layer (type)                    </span>┃<span style=\"font-weight: bold\"> Output Shape           </span>┃<span style=\"font-weight: bold\">       Param # </span>┃\n",
       "┡━━━━━━━━━━━━━━━━━━━━━━━━━━━━━━━━━╇━━━━━━━━━━━━━━━━━━━━━━━━╇━━━━━━━━━━━━━━━┩\n",
       "│ flatten (<span style=\"color: #0087ff; text-decoration-color: #0087ff\">Flatten</span>)               │ (<span style=\"color: #00d7ff; text-decoration-color: #00d7ff\">None</span>, <span style=\"color: #00af00; text-decoration-color: #00af00\">158700</span>)         │             <span style=\"color: #00af00; text-decoration-color: #00af00\">0</span> │\n",
       "├─────────────────────────────────┼────────────────────────┼───────────────┤\n",
       "│ dense (<span style=\"color: #0087ff; text-decoration-color: #0087ff\">Dense</span>)                   │ (<span style=\"color: #00d7ff; text-decoration-color: #00d7ff\">None</span>, <span style=\"color: #00af00; text-decoration-color: #00af00\">4</span>)              │       <span style=\"color: #00af00; text-decoration-color: #00af00\">634,804</span> │\n",
       "└─────────────────────────────────┴────────────────────────┴───────────────┘\n",
       "</pre>\n"
      ],
      "text/plain": [
       "┏━━━━━━━━━━━━━━━━━━━━━━━━━━━━━━━━━┳━━━━━━━━━━━━━━━━━━━━━━━━┳━━━━━━━━━━━━━━━┓\n",
       "┃\u001b[1m \u001b[0m\u001b[1mLayer (type)                   \u001b[0m\u001b[1m \u001b[0m┃\u001b[1m \u001b[0m\u001b[1mOutput Shape          \u001b[0m\u001b[1m \u001b[0m┃\u001b[1m \u001b[0m\u001b[1m      Param #\u001b[0m\u001b[1m \u001b[0m┃\n",
       "┡━━━━━━━━━━━━━━━━━━━━━━━━━━━━━━━━━╇━━━━━━━━━━━━━━━━━━━━━━━━╇━━━━━━━━━━━━━━━┩\n",
       "│ flatten (\u001b[38;5;33mFlatten\u001b[0m)               │ (\u001b[38;5;45mNone\u001b[0m, \u001b[38;5;34m158700\u001b[0m)         │             \u001b[38;5;34m0\u001b[0m │\n",
       "├─────────────────────────────────┼────────────────────────┼───────────────┤\n",
       "│ dense (\u001b[38;5;33mDense\u001b[0m)                   │ (\u001b[38;5;45mNone\u001b[0m, \u001b[38;5;34m4\u001b[0m)              │       \u001b[38;5;34m634,804\u001b[0m │\n",
       "└─────────────────────────────────┴────────────────────────┴───────────────┘\n"
      ]
     },
     "metadata": {},
     "output_type": "display_data"
    },
    {
     "data": {
      "text/html": [
       "<pre style=\"white-space:pre;overflow-x:auto;line-height:normal;font-family:Menlo,'DejaVu Sans Mono',consolas,'Courier New',monospace\"><span style=\"font-weight: bold\"> Total params: </span><span style=\"color: #00af00; text-decoration-color: #00af00\">1,269,610</span> (4.84 MB)\n",
       "</pre>\n"
      ],
      "text/plain": [
       "\u001b[1m Total params: \u001b[0m\u001b[38;5;34m1,269,610\u001b[0m (4.84 MB)\n"
      ]
     },
     "metadata": {},
     "output_type": "display_data"
    },
    {
     "data": {
      "text/html": [
       "<pre style=\"white-space:pre;overflow-x:auto;line-height:normal;font-family:Menlo,'DejaVu Sans Mono',consolas,'Courier New',monospace\"><span style=\"font-weight: bold\"> Trainable params: </span><span style=\"color: #00af00; text-decoration-color: #00af00\">634,804</span> (2.42 MB)\n",
       "</pre>\n"
      ],
      "text/plain": [
       "\u001b[1m Trainable params: \u001b[0m\u001b[38;5;34m634,804\u001b[0m (2.42 MB)\n"
      ]
     },
     "metadata": {},
     "output_type": "display_data"
    },
    {
     "data": {
      "text/html": [
       "<pre style=\"white-space:pre;overflow-x:auto;line-height:normal;font-family:Menlo,'DejaVu Sans Mono',consolas,'Courier New',monospace\"><span style=\"font-weight: bold\"> Non-trainable params: </span><span style=\"color: #00af00; text-decoration-color: #00af00\">0</span> (0.00 B)\n",
       "</pre>\n"
      ],
      "text/plain": [
       "\u001b[1m Non-trainable params: \u001b[0m\u001b[38;5;34m0\u001b[0m (0.00 B)\n"
      ]
     },
     "metadata": {},
     "output_type": "display_data"
    },
    {
     "data": {
      "text/html": [
       "<pre style=\"white-space:pre;overflow-x:auto;line-height:normal;font-family:Menlo,'DejaVu Sans Mono',consolas,'Courier New',monospace\"><span style=\"font-weight: bold\"> Optimizer params: </span><span style=\"color: #00af00; text-decoration-color: #00af00\">634,806</span> (2.42 MB)\n",
       "</pre>\n"
      ],
      "text/plain": [
       "\u001b[1m Optimizer params: \u001b[0m\u001b[38;5;34m634,806\u001b[0m (2.42 MB)\n"
      ]
     },
     "metadata": {},
     "output_type": "display_data"
    }
   ],
   "source": [
    "# Printing the model summary to show the architecture\n",
    "first_classifier.summary()"
   ]
  },
  {
   "cell_type": "markdown",
   "metadata": {
    "id": "M7x5pFFXfnF6"
   },
   "source": [
    "### 2.2 A more complex classifier (2 marks)\n",
    "\n",
    "Try a more complex architecture that has 1 or more hidden layers with dropout. For this more complex architecture, use `keras-tuner` and run it with a reasonable choice of possible parameters. You may try among the following:\n",
    "\n",
    "- Number of hidden layers\n",
    "- Sizes of hidden layers\n",
    "- Dropout rate\n",
    "- Learning rate"
   ]
  },
  {
   "cell_type": "markdown",
   "metadata": {},
   "source": [
    "## 2.2 Building and Tuning a Deep Neural Network for a Complex Classifier"
   ]
  },
  {
   "cell_type": "code",
   "execution_count": 18,
   "metadata": {
    "id": "zHw8Ei04fnF7"
   },
   "outputs": [],
   "source": [
    "#Building our neural network model here\n",
    "def build_weather_nn(rows, columns, channels, num_hidden, hidden_sizes, dropout_rates):\n",
    "  \n",
    "     weather_network = models.Sequential(name=\"Weather_classifier_2\")\n",
    "     \n",
    "     # Adding a Flatten layer of the specified input shape\n",
    "     weather_network.add(layers.Flatten(input_shape=(rows, columns, channels)))\n",
    "     \n",
    "     # Adding hidden layers of the specified sizes and activation functions\n",
    "     for i in range(num_hidden):\n",
    "          weather_network.add(layers.Dense(hidden_sizes[i], activation='relu'))\n",
    "          # Adding dropout layer of the specified dropout rate if greater than 0\n",
    "          if dropout_rates[i] > 0:\n",
    "               weather_network.add(layers.Dropout(dropout_rates[i]))\n",
    "               \n",
    "     # Adding the final output layer with the specified size and activation function\n",
    "     weather_network.add(layers.Dense(len(CLASS_NAMES), activation='softmax')) \n",
    "     \n",
    "     return weather_network"
   ]
  },
  {
   "cell_type": "code",
   "execution_count": 19,
   "metadata": {},
   "outputs": [
    {
     "name": "stdout",
     "output_type": "stream",
     "text": [
      "Trial 10 Complete [00h 00m 42s]\n",
      "val_accuracy: 0.71257483959198\n",
      "\n",
      "Best val_accuracy So Far: 0.7844311594963074\n",
      "Total elapsed time: 00h 04m 51s\n",
      "{'lrate': 0.0001, 'num_hidden': 3, 'dropout': 0.0, 'hidden_size': 208}\n",
      "him: 3\n",
      "input_hidden: (208, 208, 208)\n",
      "input_dropout: (0, 0, 0.0)\n"
     ]
    },
    {
     "name": "stderr",
     "output_type": "stream",
     "text": [
      "C:\\Users\\tahan\\AppData\\Local\\Packages\\PythonSoftwareFoundation.Python.3.11_qbz5n2kfra8p0\\LocalCache\\local-packages\\Python311\\site-packages\\keras\\src\\saving\\saving_lib.py:396: UserWarning: Skipping variable loading for optimizer 'adam', because it has 2 variables whereas the saved optimizer has 18 variables. \n",
      "  trackable.load_own_variables(weights_store.get(inner_path))\n"
     ]
    },
    {
     "data": {
      "text/html": [
       "<pre style=\"white-space:pre;overflow-x:auto;line-height:normal;font-family:Menlo,'DejaVu Sans Mono',consolas,'Courier New',monospace\"><span style=\"font-weight: bold\">Model: \"Weather_classifier_2\"</span>\n",
       "</pre>\n"
      ],
      "text/plain": [
       "\u001b[1mModel: \"Weather_classifier_2\"\u001b[0m\n"
      ]
     },
     "metadata": {},
     "output_type": "display_data"
    },
    {
     "data": {
      "text/html": [
       "<pre style=\"white-space:pre;overflow-x:auto;line-height:normal;font-family:Menlo,'DejaVu Sans Mono',consolas,'Courier New',monospace\">┏━━━━━━━━━━━━━━━━━━━━━━━━━━━━━━━━━┳━━━━━━━━━━━━━━━━━━━━━━━━┳━━━━━━━━━━━━━━━┓\n",
       "┃<span style=\"font-weight: bold\"> Layer (type)                    </span>┃<span style=\"font-weight: bold\"> Output Shape           </span>┃<span style=\"font-weight: bold\">       Param # </span>┃\n",
       "┡━━━━━━━━━━━━━━━━━━━━━━━━━━━━━━━━━╇━━━━━━━━━━━━━━━━━━━━━━━━╇━━━━━━━━━━━━━━━┩\n",
       "│ flatten (<span style=\"color: #0087ff; text-decoration-color: #0087ff\">Flatten</span>)               │ (<span style=\"color: #00d7ff; text-decoration-color: #00d7ff\">None</span>, <span style=\"color: #00af00; text-decoration-color: #00af00\">158700</span>)         │             <span style=\"color: #00af00; text-decoration-color: #00af00\">0</span> │\n",
       "├─────────────────────────────────┼────────────────────────┼───────────────┤\n",
       "│ dense (<span style=\"color: #0087ff; text-decoration-color: #0087ff\">Dense</span>)                   │ (<span style=\"color: #00d7ff; text-decoration-color: #00d7ff\">None</span>, <span style=\"color: #00af00; text-decoration-color: #00af00\">208</span>)            │    <span style=\"color: #00af00; text-decoration-color: #00af00\">33,009,808</span> │\n",
       "├─────────────────────────────────┼────────────────────────┼───────────────┤\n",
       "│ dense_1 (<span style=\"color: #0087ff; text-decoration-color: #0087ff\">Dense</span>)                 │ (<span style=\"color: #00d7ff; text-decoration-color: #00d7ff\">None</span>, <span style=\"color: #00af00; text-decoration-color: #00af00\">208</span>)            │        <span style=\"color: #00af00; text-decoration-color: #00af00\">43,472</span> │\n",
       "├─────────────────────────────────┼────────────────────────┼───────────────┤\n",
       "│ dense_2 (<span style=\"color: #0087ff; text-decoration-color: #0087ff\">Dense</span>)                 │ (<span style=\"color: #00d7ff; text-decoration-color: #00d7ff\">None</span>, <span style=\"color: #00af00; text-decoration-color: #00af00\">208</span>)            │        <span style=\"color: #00af00; text-decoration-color: #00af00\">43,472</span> │\n",
       "├─────────────────────────────────┼────────────────────────┼───────────────┤\n",
       "│ dense_3 (<span style=\"color: #0087ff; text-decoration-color: #0087ff\">Dense</span>)                 │ (<span style=\"color: #00d7ff; text-decoration-color: #00d7ff\">None</span>, <span style=\"color: #00af00; text-decoration-color: #00af00\">4</span>)              │           <span style=\"color: #00af00; text-decoration-color: #00af00\">836</span> │\n",
       "└─────────────────────────────────┴────────────────────────┴───────────────┘\n",
       "</pre>\n"
      ],
      "text/plain": [
       "┏━━━━━━━━━━━━━━━━━━━━━━━━━━━━━━━━━┳━━━━━━━━━━━━━━━━━━━━━━━━┳━━━━━━━━━━━━━━━┓\n",
       "┃\u001b[1m \u001b[0m\u001b[1mLayer (type)                   \u001b[0m\u001b[1m \u001b[0m┃\u001b[1m \u001b[0m\u001b[1mOutput Shape          \u001b[0m\u001b[1m \u001b[0m┃\u001b[1m \u001b[0m\u001b[1m      Param #\u001b[0m\u001b[1m \u001b[0m┃\n",
       "┡━━━━━━━━━━━━━━━━━━━━━━━━━━━━━━━━━╇━━━━━━━━━━━━━━━━━━━━━━━━╇━━━━━━━━━━━━━━━┩\n",
       "│ flatten (\u001b[38;5;33mFlatten\u001b[0m)               │ (\u001b[38;5;45mNone\u001b[0m, \u001b[38;5;34m158700\u001b[0m)         │             \u001b[38;5;34m0\u001b[0m │\n",
       "├─────────────────────────────────┼────────────────────────┼───────────────┤\n",
       "│ dense (\u001b[38;5;33mDense\u001b[0m)                   │ (\u001b[38;5;45mNone\u001b[0m, \u001b[38;5;34m208\u001b[0m)            │    \u001b[38;5;34m33,009,808\u001b[0m │\n",
       "├─────────────────────────────────┼────────────────────────┼───────────────┤\n",
       "│ dense_1 (\u001b[38;5;33mDense\u001b[0m)                 │ (\u001b[38;5;45mNone\u001b[0m, \u001b[38;5;34m208\u001b[0m)            │        \u001b[38;5;34m43,472\u001b[0m │\n",
       "├─────────────────────────────────┼────────────────────────┼───────────────┤\n",
       "│ dense_2 (\u001b[38;5;33mDense\u001b[0m)                 │ (\u001b[38;5;45mNone\u001b[0m, \u001b[38;5;34m208\u001b[0m)            │        \u001b[38;5;34m43,472\u001b[0m │\n",
       "├─────────────────────────────────┼────────────────────────┼───────────────┤\n",
       "│ dense_3 (\u001b[38;5;33mDense\u001b[0m)                 │ (\u001b[38;5;45mNone\u001b[0m, \u001b[38;5;34m4\u001b[0m)              │           \u001b[38;5;34m836\u001b[0m │\n",
       "└─────────────────────────────────┴────────────────────────┴───────────────┘\n"
      ]
     },
     "metadata": {},
     "output_type": "display_data"
    },
    {
     "data": {
      "text/html": [
       "<pre style=\"white-space:pre;overflow-x:auto;line-height:normal;font-family:Menlo,'DejaVu Sans Mono',consolas,'Courier New',monospace\"><span style=\"font-weight: bold\"> Total params: </span><span style=\"color: #00af00; text-decoration-color: #00af00\">33,097,588</span> (126.26 MB)\n",
       "</pre>\n"
      ],
      "text/plain": [
       "\u001b[1m Total params: \u001b[0m\u001b[38;5;34m33,097,588\u001b[0m (126.26 MB)\n"
      ]
     },
     "metadata": {},
     "output_type": "display_data"
    },
    {
     "data": {
      "text/html": [
       "<pre style=\"white-space:pre;overflow-x:auto;line-height:normal;font-family:Menlo,'DejaVu Sans Mono',consolas,'Courier New',monospace\"><span style=\"font-weight: bold\"> Trainable params: </span><span style=\"color: #00af00; text-decoration-color: #00af00\">33,097,588</span> (126.26 MB)\n",
       "</pre>\n"
      ],
      "text/plain": [
       "\u001b[1m Trainable params: \u001b[0m\u001b[38;5;34m33,097,588\u001b[0m (126.26 MB)\n"
      ]
     },
     "metadata": {},
     "output_type": "display_data"
    },
    {
     "data": {
      "text/html": [
       "<pre style=\"white-space:pre;overflow-x:auto;line-height:normal;font-family:Menlo,'DejaVu Sans Mono',consolas,'Courier New',monospace\"><span style=\"font-weight: bold\"> Non-trainable params: </span><span style=\"color: #00af00; text-decoration-color: #00af00\">0</span> (0.00 B)\n",
       "</pre>\n"
      ],
      "text/plain": [
       "\u001b[1m Non-trainable params: \u001b[0m\u001b[38;5;34m0\u001b[0m (0.00 B)\n"
      ]
     },
     "metadata": {},
     "output_type": "display_data"
    },
    {
     "name": "stdout",
     "output_type": "stream",
     "text": [
      "None\n"
     ]
    }
   ],
   "source": [
    "import kerastuner as kt\n",
    "\n",
    "def build_model(hp):\n",
    "    # Parameterizing to the values in the previous cell\n",
    "    lrate = hp.Float('lrate', 1e-4, 1e-1, sampling='log')\n",
    "    num_hidden = hp.Int('num_hidden', 1, 3, 1)\n",
    "    dropout_rate = hp.Float('dropout', 0.0, 0.8)\n",
    "    hidden_size= hp.Int('hidden_size', 16, 256, 16)\n",
    "    \n",
    "    input_hidden=num_hidden*(hidden_size,)\n",
    "    input_dropout=(num_hidden-1)*(0,)+(dropout_rate,)\n",
    "    print(\"him:\", num_hidden)\n",
    "    print(\"input_hidden:\", input_hidden)\n",
    "    print(\"input_dropout:\", input_dropout)\n",
    "    \n",
    "    weather_model=build_weather_nn(IMG_WIDTH,IMG_HEIGHT, IMG_CHANNELS, num_hidden, input_hidden, input_dropout)\n",
    "    # Compiling the model with optimizer, loss function, and metrics\n",
    "    weather_model.compile(optimizer=keras.optimizers.Adam(learning_rate=lrate), loss='categorical_crossentropy', metrics=['accuracy'])\n",
    "    \n",
    "    return weather_model\n",
    "\n",
    "batch_size=32\n",
    "\n",
    "tuner = kt.BayesianOptimization(build_model, objective=kt.Objective('val_accuracy', 'max'), max_trials=10, num_initial_points=2, overwrite=True) # True to start afresh.\n",
    "# Searching for the best hyperparameters using the training and validation data\n",
    "tuner.search(train_dataset, validation_data=eval_dataset, epochs=5, callbacks=[keras.callbacks.EarlyStopping(patience=2)])\n",
    "\n",
    "# Retrieving and printing the top 1 hyperparameters and model summary\n",
    "topN = 1\n",
    "for x in range(topN):\n",
    "    print(tuner.get_best_hyperparameters(topN)[x].values)\n",
    "    print(tuner.get_best_models(topN)[x].summary())\n"
   ]
  },
  {
   "cell_type": "code",
   "execution_count": 20,
   "metadata": {},
   "outputs": [
    {
     "name": "stdout",
     "output_type": "stream",
     "text": [
      "The best hyperparameter values are: {'lrate': 0.0001, 'num_hidden': 3, 'dropout': 0.0, 'hidden_size': 208}\n"
     ]
    }
   ],
   "source": [
    "# Retrieve the best hyperparameters\n",
    "best_hyperparameters = tuner.get_best_hyperparameters(topN)[x].values\n",
    "\n",
    "lrate=best_hyperparameters['lrate']\n",
    "dropout_rate=best_hyperparameters['dropout']\n",
    "num_hidden=best_hyperparameters['num_hidden']\n",
    "hidden_size=best_hyperparameters['hidden_size']\n",
    "\n",
    "input_hidden=num_hidden*(hidden_size,)\n",
    "input_dropout=(num_hidden-1)*(0,)+(dropout_rate,)\n",
    "\n",
    "print(\"The best hyperparameter values are:\", best_hyperparameters)"
   ]
  },
  {
   "cell_type": "code",
   "execution_count": 21,
   "metadata": {},
   "outputs": [
    {
     "name": "stdout",
     "output_type": "stream",
     "text": [
      "Epoch 1/5\n",
      "\u001b[1m25/25\u001b[0m \u001b[32m━━━━━━━━━━━━━━━━━━━━\u001b[0m\u001b[37m\u001b[0m \u001b[1m9s\u001b[0m 260ms/step - accuracy: 0.3928 - loss: 2.3417 - val_accuracy: 0.7365 - val_loss: 0.5675\n",
      "Epoch 2/5\n",
      "\u001b[1m25/25\u001b[0m \u001b[32m━━━━━━━━━━━━━━━━━━━━\u001b[0m\u001b[37m\u001b[0m \u001b[1m6s\u001b[0m 250ms/step - accuracy: 0.7095 - loss: 0.7377 - val_accuracy: 0.7006 - val_loss: 0.6379\n",
      "Epoch 3/5\n",
      "\u001b[1m25/25\u001b[0m \u001b[32m━━━━━━━━━━━━━━━━━━━━\u001b[0m\u001b[37m\u001b[0m \u001b[1m6s\u001b[0m 245ms/step - accuracy: 0.7163 - loss: 0.6690 - val_accuracy: 0.7305 - val_loss: 0.5835\n"
     ]
    },
    {
     "data": {
      "text/plain": [
       "<keras.src.callbacks.history.History at 0x1f7e83f7710>"
      ]
     },
     "execution_count": 21,
     "metadata": {},
     "output_type": "execute_result"
    }
   ],
   "source": [
    "second_classifier= build_weather_nn(IMG_WIDTH, IMG_HEIGHT, IMG_CHANNELS, num_hidden, input_hidden, input_dropout)\n",
    "\n",
    "# Compiling the model with optimizer, loss function, and metrics\n",
    "second_classifier.compile(optimizer=keras.optimizers.Adam(learning_rate=lrate), loss='categorical_crossentropy', metrics=['accuracy'])\n",
    "\n",
    "# Training the model using the training dataset with early stopping\n",
    "second_classifier.fit(train_dataset,validation_data=eval_dataset, epochs=5, callbacks=[keras.callbacks.EarlyStopping(patience=2)])\n",
    "\n",
    "\n",
    "\n"
   ]
  },
  {
   "cell_type": "code",
   "execution_count": 22,
   "metadata": {},
   "outputs": [
    {
     "name": "stdout",
     "output_type": "stream",
     "text": [
      "\u001b[1m6/6\u001b[0m \u001b[32m━━━━━━━━━━━━━━━━━━━━\u001b[0m\u001b[37m\u001b[0m \u001b[1m0s\u001b[0m 22ms/step - accuracy: 0.7389 - loss: 0.6690\n",
      "Test accuracy: 0.763\n",
      "\u001b[1m25/25\u001b[0m \u001b[32m━━━━━━━━━━━━━━━━━━━━\u001b[0m\u001b[37m\u001b[0m \u001b[1m1s\u001b[0m 39ms/step - accuracy: 0.7182 - loss: 0.6636\n",
      "Training accuracy: 0.743\n"
     ]
    }
   ],
   "source": [
    "# Evaluate the model on the test dataset and print the test accuracy\n",
    "test_loss_2, test_acc_2=second_classifier.evaluate(test_dataset, batch_size=128)\n",
    "print(f\"Test accuracy: {test_acc_2:.3f}\")\n",
    "\n",
    "\n",
    "# Evaluate the model on the training dataset and print the training accuracy\n",
    "train_loss_2, train_acc_2=second_classifier.evaluate(train_dataset, batch_size=128)\n",
    "print(f\"Training accuracy: {train_acc_2:.3f}\")\n"
   ]
  },
  {
   "cell_type": "code",
   "execution_count": 23,
   "metadata": {},
   "outputs": [
    {
     "name": "stdout",
     "output_type": "stream",
     "text": [
      "First_Classifier, Training Accuracy: 0.5441741347312927\n",
      "First_Classifier, Testing Accuracy: 0.5384615659713745\n",
      "Second_Classifier, Training Accuracy: 0.7426376342773438\n",
      "Second_Classifier, Testing Accuracy: 0.7633135914802551\n"
     ]
    }
   ],
   "source": [
    "print (\"First_Classifier, Training Accuracy:\", train_acc) \n",
    "print (\"First_Classifier, Testing Accuracy:\", test_acc)\n",
    "print (\"Second_Classifier, Training Accuracy:\", train_acc_2) \n",
    "print (\"Second_Classifier, Testing Accuracy:\", test_acc_2)"
   ]
  },
  {
   "cell_type": "markdown",
   "metadata": {
    "id": "neYN1eiIfnF8"
   },
   "source": [
    "Write text below where you explain and justify your decision choices made in this task."
   ]
  },
  {
   "cell_type": "markdown",
   "metadata": {
    "id": "71dBL-k0fnF8"
   },
   "source": [
    "For Task 2.1, I created a simple classifier with just a Flatten layer and an output layer. The decision to start with a simple model was to establish a baseline for performance. This model was quick to train and provided a fundamental understanding of how well a basic approach could perform on the dataset.\n",
    "\n",
    "In Task 2.2, I developed a more complex classifier with one or more hidden layers and dropout. The decision to increase complexity was based on the understanding that more sophisticated models can capture deeper patterns in the data, potentially leading to better performance. I used keras-tuner to find the best combination of hyperparameters, such as the number of hidden layers, sizes of hidden layers, dropout rate, and learning rate. This approach aimed to optimize the model's architecture and training process to achieve higher accuracy."
   ]
  },
  {
   "cell_type": "markdown",
   "metadata": {
    "id": "lsM7wXbIfnF9"
   },
   "source": [
    "### 2.3 Error analysis (1 mark)\n",
    "\n",
    "Evaluate your best-performing system from task 2 against the system of task 1 and answer the following questions.\n",
    "\n",
    "1. Which system had a better accuracy on the test data?\n",
    "2. Which system had a lower degree of overfitting?"
   ]
  },
  {
   "cell_type": "code",
   "execution_count": 24,
   "metadata": {},
   "outputs": [
    {
     "data": {
      "image/png": "[encoded data removed]",
      "text/plain": [
       "<Figure size 1200x600 with 1 Axes>"
      ]
     },
     "metadata": {},
     "output_type": "display_data"
    }
   ],
   "source": [
    "# Write your code here\n",
    "import numpy as np\n",
    "import matplotlib.pyplot as plt\n",
    "\n",
    "weather_accuracy={'First_Classifier, Training':train_acc, 'First_Classifier, Testing':test_acc, 'Second_Classifier, Training': train_acc_2, 'Second_Classifier, Testing': test_acc_2}\n",
    "classifer=list(weather_accuracy.keys())\n",
    "accuracies=list(weather_accuracy.values())\n",
    "\n",
    "fig=plt.figure(figsize=(12,6))\n",
    "axes=plt.axes()\n",
    "axes.set_ylim([0.2, 0.9])\n",
    "plt.bar(classifer, accuracies, color='green')\n",
    "\n",
    "# Display the accuracies above the bars\n",
    "for i, acc in enumerate(accuracies):\n",
    "    plt.text(i, acc, f\"{acc:.4f}\", ha='center', va='bottom')\n",
    "\n",
    "plt.title(\"Comparison of Classifier Accuracies\")\n",
    "plt.xlabel(\"Classifer\")\n",
    "plt.ylabel(\"Accuracy\")\n",
    "plt.show()"
   ]
  },
  {
   "cell_type": "markdown",
   "metadata": {},
   "source": [
    "### 1. Which system had a better accuracy on the test data?\n",
    "\n",
    "Ans: The second classifier had better accuracy on the test data with an accuracy of 0.7633 compared to the first classifier's accuracy of 0.5385. This suggests that the complexity added by the hidden layers and dropout was beneficial for the model's performance on this task."
   ]
  },
  {
   "cell_type": "markdown",
   "metadata": {},
   "source": [
    "### 2. Which system had a lower degree of overfitting?\n",
    "\n",
    "Ans: To determine the degree of overfitting, we compare the accuracy on the training data with the accuracy on the test data. A smaller gap between training and test accuracy typically indicates less overfitting. The first classifier has a very small difference between training and test accuracy (0.5442 vs. 0.5385), suggesting it did not overfit much but there is overfitting. The second classifier has a higher difference between training and test accuracy (0.7426 vs. 0.7633), which suggests no overfitting i.e., the model is generalising well on the test data.\n",
    "\n",
    "So, to conclude Second Classifer has a lower degree of overfitting."
   ]
  },
  {
   "cell_type": "markdown",
   "metadata": {
    "id": "qJgTJjhUfnF9"
   },
   "source": [
    "## Task 3 - A more complex classifier (5 marks)\n",
    "\n",
    "### Task 3.1 Using ConvNets (2 marks)\n",
    "\n",
    "Implement a model that uses a sequence of at least two `ConvD`, each one followed with `MaxPooling2D`. Use reasonable numbers for the hyperparameters (number of filters, kernel size, pool size, activation, etc), base on what we have seen in the lectures. Feel free to research the internet and / or generative AI to help you find a reasonable choice of hyperparameters. For this task, do not use pre-trained models."
   ]
  },
  {
   "cell_type": "code",
   "execution_count": 25,
   "metadata": {
    "id": "tvZQQPSJfnF-"
   },
   "outputs": [
    {
     "name": "stdout",
     "output_type": "stream",
     "text": [
      "WARNING:tensorflow:From C:\\Users\\tahan\\AppData\\Local\\Packages\\PythonSoftwareFoundation.Python.3.11_qbz5n2kfra8p0\\LocalCache\\local-packages\\Python311\\site-packages\\tf_keras\\src\\losses.py:2976: The name tf.losses.sparse_softmax_cross_entropy is deprecated. Please use tf.compat.v1.losses.sparse_softmax_cross_entropy instead.\n",
      "\n"
     ]
    }
   ],
   "source": [
    "import tensorflow_hub as hub\n",
    "from tensorflow.keras import models\n",
    "from tensorflow. keras import layers\n",
    "#from tensorflow. keras. layers import Convolution2D(tensorflow1.X)\n",
    "from tensorflow.keras. layers import Conv2D\n"
   ]
  },
  {
   "attachments": {
    "image.png": {
     "image/png": "[encoded data removed]"
    }
   },
   "cell_type": "markdown",
   "metadata": {},
   "source": [
    "## A Note to my Assignment Marker\n",
    "\n",
    "I am writing to explain a challenge I faced while working on Task 3.1 of our assignment. \n",
    "\n",
    "I planned to use hyperparameter tuning to find the optimal parameters. However, due to compatibility issues with TensorFlow, I was unable to complete the tuning process. Despite attempting to configure a Python Virtual Environment on Anaconda to leverage my GPU, I encountered persistent package installation issues.\n",
    "\n",
    "As a result, I had to rely on the hyperparameters discussed in our lectures to manually configure my model. I have included the initial code below as evidence of my attempt to use hyperparameter tuning and also an image of creating a virtual environment name 'Py_CV' to configure my GPU. \n",
    "\n",
    "I kindly ask for your understanding and to consider the effort and knowledge applied in the completion of this task, despite the technical difficulties encountered.\n",
    "\n",
    "Thank you for your consideration.\n",
    "\n",
    "![image.png](attachment:image.png)"
   ]
  },
  {
   "cell_type": "code",
   "execution_count": 26,
   "metadata": {
    "tags": [
     "skip"
    ]
   },
   "outputs": [],
   "source": [
    "#%%\n",
    "def create_weather_classifier(num_conv_layers, conv_filters, conv_kernel_sizes, pool_sizes):\n",
    "    weather_model = models.Sequential(name=\"Weather_Classifier\")\n",
    "    for layer_index in range(num_conv_layers):\n",
    "        if layer_index == 0:\n",
    "            # For the first layer, include the input_shape\n",
    "            weather_model.add(layers.Conv2D(filters=conv_filters[layer_index], \n",
    "                                            kernel_size=conv_kernel_sizes[layer_index], \n",
    "                                            activation=\"relu\", \n",
    "                                            input_shape=(IMG_HEIGHT, IMG_WIDTH, IMG_CHANNELS)))\n",
    "        else:\n",
    "            # Subsequent layers will not require the input_shape\n",
    "            weather_model.add(layers.Conv2D(filters=conv_filters[layer_index], \n",
    "                                            kernel_size=conv_kernel_sizes[layer_index], \n",
    "                                            activation=\"relu\"))\n",
    "        \n",
    "        # Add MaxPooling layer if pool size is greater than 0\n",
    "        if pool_sizes[layer_index] > 0:\n",
    "            weather_model.add(layers.MaxPooling2D(pool_size=pool_sizes[layer_index]))\n",
    "    \n",
    "    # Flatten the output of the last convolutional layer\n",
    "    weather_model.add(layers.Flatten())\n",
    "    \n",
    "    # Output layer with a number of neurons corresponding to the number of classes\n",
    "    weather_model.add(layers.Dense(len(CLASS_NAMES), activation='softmax'))\n",
    "    \n",
    "    return weather_model\n",
    "\n",
    "#%%\n",
    "\n",
    "def build_hyperparameter_tuned_model(hp):\n",
    "    learning_rate = hp.Float('learning_rate', 1e-4, 1e-1, sampling='log')\n",
    "    num_conv_layers = hp.Choice('num_conv_layers', [2, 3])\n",
    "    \n",
    "    conv_filters = []\n",
    "    conv_kernel_sizes = []\n",
    "    for layer_index in range(num_conv_layers):\n",
    "        filter_count = hp.Int(f'conv_{layer_index}_filters', 16, 256, 32)\n",
    "        conv_filters.append(filter_count)\n",
    "    \n",
    "    for layer_index in range(num_conv_layers):\n",
    "        kernel_size = hp.Choice(f'conv_{layer_index}_kernel_size', values=[3, 5])\n",
    "        conv_kernel_sizes.append(kernel_size)\n",
    "        \n",
    "    print(\"Convolutional Filters:\", conv_filters)\n",
    "    print(\"Kernel Sizes:\", conv_kernel_sizes)\n",
    "    print(\"Number of Convolutional Layers:\", num_conv_layers)\n",
    "    print(\"Pooling Sizes:\", num_conv_layers * [2])\n",
    "\n",
    "    # Build the model using the determined hyperparameters\n",
    "    tuned_weather_model = create_weather_classifier(num_conv_layers, conv_filters, conv_kernel_sizes, num_conv_layers * [2])\n",
    "    tuned_weather_model.compile(optimizer=keras.optimizers.Adam(learning_rate=learning_rate), \n",
    "                                loss='categorical_crossentropy', \n",
    "                                metrics=['accuracy'])\n",
    "    \n",
    "    return tuned_weather_model\n",
    "\n",
    "\n"
   ]
  },
  {
   "cell_type": "markdown",
   "metadata": {},
   "source": [
    "## 3.1 Designing and Training a Convolutional Neural Network from Scratch for Image Classification"
   ]
  },
  {
   "cell_type": "code",
   "execution_count": 27,
   "metadata": {},
   "outputs": [
    {
     "name": "stderr",
     "output_type": "stream",
     "text": [
      "C:\\Users\\tahan\\AppData\\Local\\Packages\\PythonSoftwareFoundation.Python.3.11_qbz5n2kfra8p0\\LocalCache\\local-packages\\Python311\\site-packages\\keras\\src\\layers\\convolutional\\base_conv.py:99: UserWarning: Do not pass an `input_shape`/`input_dim` argument to a layer. When using Sequential models, prefer using an `Input(shape)` object as the first layer in the model instead.\n",
      "  super().__init__(\n"
     ]
    },
    {
     "data": {
      "text/html": [
       "<pre style=\"white-space:pre;overflow-x:auto;line-height:normal;font-family:Menlo,'DejaVu Sans Mono',consolas,'Courier New',monospace\"><span style=\"font-weight: bold\">Model: \"Weather_CNN\"</span>\n",
       "</pre>\n"
      ],
      "text/plain": [
       "\u001b[1mModel: \"Weather_CNN\"\u001b[0m\n"
      ]
     },
     "metadata": {},
     "output_type": "display_data"
    },
    {
     "data": {
      "text/html": [
       "<pre style=\"white-space:pre;overflow-x:auto;line-height:normal;font-family:Menlo,'DejaVu Sans Mono',consolas,'Courier New',monospace\">┏━━━━━━━━━━━━━━━━━━━━━━━━━━━━━━━━━┳━━━━━━━━━━━━━━━━━━━━━━━━┳━━━━━━━━━━━━━━━┓\n",
       "┃<span style=\"font-weight: bold\"> Layer (type)                    </span>┃<span style=\"font-weight: bold\"> Output Shape           </span>┃<span style=\"font-weight: bold\">       Param # </span>┃\n",
       "┡━━━━━━━━━━━━━━━━━━━━━━━━━━━━━━━━━╇━━━━━━━━━━━━━━━━━━━━━━━━╇━━━━━━━━━━━━━━━┩\n",
       "│ conv2d (<span style=\"color: #0087ff; text-decoration-color: #0087ff\">Conv2D</span>)                 │ (<span style=\"color: #00d7ff; text-decoration-color: #00d7ff\">None</span>, <span style=\"color: #00af00; text-decoration-color: #00af00\">228</span>, <span style=\"color: #00af00; text-decoration-color: #00af00\">228</span>, <span style=\"color: #00af00; text-decoration-color: #00af00\">32</span>)   │           <span style=\"color: #00af00; text-decoration-color: #00af00\">896</span> │\n",
       "├─────────────────────────────────┼────────────────────────┼───────────────┤\n",
       "│ max_pooling2d (<span style=\"color: #0087ff; text-decoration-color: #0087ff\">MaxPooling2D</span>)    │ (<span style=\"color: #00d7ff; text-decoration-color: #00d7ff\">None</span>, <span style=\"color: #00af00; text-decoration-color: #00af00\">114</span>, <span style=\"color: #00af00; text-decoration-color: #00af00\">114</span>, <span style=\"color: #00af00; text-decoration-color: #00af00\">32</span>)   │             <span style=\"color: #00af00; text-decoration-color: #00af00\">0</span> │\n",
       "├─────────────────────────────────┼────────────────────────┼───────────────┤\n",
       "│ conv2d_1 (<span style=\"color: #0087ff; text-decoration-color: #0087ff\">Conv2D</span>)               │ (<span style=\"color: #00d7ff; text-decoration-color: #00d7ff\">None</span>, <span style=\"color: #00af00; text-decoration-color: #00af00\">112</span>, <span style=\"color: #00af00; text-decoration-color: #00af00\">112</span>, <span style=\"color: #00af00; text-decoration-color: #00af00\">64</span>)   │        <span style=\"color: #00af00; text-decoration-color: #00af00\">18,496</span> │\n",
       "├─────────────────────────────────┼────────────────────────┼───────────────┤\n",
       "│ max_pooling2d_1 (<span style=\"color: #0087ff; text-decoration-color: #0087ff\">MaxPooling2D</span>)  │ (<span style=\"color: #00d7ff; text-decoration-color: #00d7ff\">None</span>, <span style=\"color: #00af00; text-decoration-color: #00af00\">56</span>, <span style=\"color: #00af00; text-decoration-color: #00af00\">56</span>, <span style=\"color: #00af00; text-decoration-color: #00af00\">64</span>)     │             <span style=\"color: #00af00; text-decoration-color: #00af00\">0</span> │\n",
       "├─────────────────────────────────┼────────────────────────┼───────────────┤\n",
       "│ conv2d_2 (<span style=\"color: #0087ff; text-decoration-color: #0087ff\">Conv2D</span>)               │ (<span style=\"color: #00d7ff; text-decoration-color: #00d7ff\">None</span>, <span style=\"color: #00af00; text-decoration-color: #00af00\">54</span>, <span style=\"color: #00af00; text-decoration-color: #00af00\">54</span>, <span style=\"color: #00af00; text-decoration-color: #00af00\">128</span>)    │        <span style=\"color: #00af00; text-decoration-color: #00af00\">73,856</span> │\n",
       "├─────────────────────────────────┼────────────────────────┼───────────────┤\n",
       "│ flatten_2 (<span style=\"color: #0087ff; text-decoration-color: #0087ff\">Flatten</span>)             │ (<span style=\"color: #00d7ff; text-decoration-color: #00d7ff\">None</span>, <span style=\"color: #00af00; text-decoration-color: #00af00\">373248</span>)         │             <span style=\"color: #00af00; text-decoration-color: #00af00\">0</span> │\n",
       "├─────────────────────────────────┼────────────────────────┼───────────────┤\n",
       "│ dense_8 (<span style=\"color: #0087ff; text-decoration-color: #0087ff\">Dense</span>)                 │ (<span style=\"color: #00d7ff; text-decoration-color: #00d7ff\">None</span>, <span style=\"color: #00af00; text-decoration-color: #00af00\">4</span>)              │     <span style=\"color: #00af00; text-decoration-color: #00af00\">1,492,996</span> │\n",
       "└─────────────────────────────────┴────────────────────────┴───────────────┘\n",
       "</pre>\n"
      ],
      "text/plain": [
       "┏━━━━━━━━━━━━━━━━━━━━━━━━━━━━━━━━━┳━━━━━━━━━━━━━━━━━━━━━━━━┳━━━━━━━━━━━━━━━┓\n",
       "┃\u001b[1m \u001b[0m\u001b[1mLayer (type)                   \u001b[0m\u001b[1m \u001b[0m┃\u001b[1m \u001b[0m\u001b[1mOutput Shape          \u001b[0m\u001b[1m \u001b[0m┃\u001b[1m \u001b[0m\u001b[1m      Param #\u001b[0m\u001b[1m \u001b[0m┃\n",
       "┡━━━━━━━━━━━━━━━━━━━━━━━━━━━━━━━━━╇━━━━━━━━━━━━━━━━━━━━━━━━╇━━━━━━━━━━━━━━━┩\n",
       "│ conv2d (\u001b[38;5;33mConv2D\u001b[0m)                 │ (\u001b[38;5;45mNone\u001b[0m, \u001b[38;5;34m228\u001b[0m, \u001b[38;5;34m228\u001b[0m, \u001b[38;5;34m32\u001b[0m)   │           \u001b[38;5;34m896\u001b[0m │\n",
       "├─────────────────────────────────┼────────────────────────┼───────────────┤\n",
       "│ max_pooling2d (\u001b[38;5;33mMaxPooling2D\u001b[0m)    │ (\u001b[38;5;45mNone\u001b[0m, \u001b[38;5;34m114\u001b[0m, \u001b[38;5;34m114\u001b[0m, \u001b[38;5;34m32\u001b[0m)   │             \u001b[38;5;34m0\u001b[0m │\n",
       "├─────────────────────────────────┼────────────────────────┼───────────────┤\n",
       "│ conv2d_1 (\u001b[38;5;33mConv2D\u001b[0m)               │ (\u001b[38;5;45mNone\u001b[0m, \u001b[38;5;34m112\u001b[0m, \u001b[38;5;34m112\u001b[0m, \u001b[38;5;34m64\u001b[0m)   │        \u001b[38;5;34m18,496\u001b[0m │\n",
       "├─────────────────────────────────┼────────────────────────┼───────────────┤\n",
       "│ max_pooling2d_1 (\u001b[38;5;33mMaxPooling2D\u001b[0m)  │ (\u001b[38;5;45mNone\u001b[0m, \u001b[38;5;34m56\u001b[0m, \u001b[38;5;34m56\u001b[0m, \u001b[38;5;34m64\u001b[0m)     │             \u001b[38;5;34m0\u001b[0m │\n",
       "├─────────────────────────────────┼────────────────────────┼───────────────┤\n",
       "│ conv2d_2 (\u001b[38;5;33mConv2D\u001b[0m)               │ (\u001b[38;5;45mNone\u001b[0m, \u001b[38;5;34m54\u001b[0m, \u001b[38;5;34m54\u001b[0m, \u001b[38;5;34m128\u001b[0m)    │        \u001b[38;5;34m73,856\u001b[0m │\n",
       "├─────────────────────────────────┼────────────────────────┼───────────────┤\n",
       "│ flatten_2 (\u001b[38;5;33mFlatten\u001b[0m)             │ (\u001b[38;5;45mNone\u001b[0m, \u001b[38;5;34m373248\u001b[0m)         │             \u001b[38;5;34m0\u001b[0m │\n",
       "├─────────────────────────────────┼────────────────────────┼───────────────┤\n",
       "│ dense_8 (\u001b[38;5;33mDense\u001b[0m)                 │ (\u001b[38;5;45mNone\u001b[0m, \u001b[38;5;34m4\u001b[0m)              │     \u001b[38;5;34m1,492,996\u001b[0m │\n",
       "└─────────────────────────────────┴────────────────────────┴───────────────┘\n"
      ]
     },
     "metadata": {},
     "output_type": "display_data"
    },
    {
     "data": {
      "text/html": [
       "<pre style=\"white-space:pre;overflow-x:auto;line-height:normal;font-family:Menlo,'DejaVu Sans Mono',consolas,'Courier New',monospace\"><span style=\"font-weight: bold\"> Total params: </span><span style=\"color: #00af00; text-decoration-color: #00af00\">1,586,244</span> (6.05 MB)\n",
       "</pre>\n"
      ],
      "text/plain": [
       "\u001b[1m Total params: \u001b[0m\u001b[38;5;34m1,586,244\u001b[0m (6.05 MB)\n"
      ]
     },
     "metadata": {},
     "output_type": "display_data"
    },
    {
     "data": {
      "text/html": [
       "<pre style=\"white-space:pre;overflow-x:auto;line-height:normal;font-family:Menlo,'DejaVu Sans Mono',consolas,'Courier New',monospace\"><span style=\"font-weight: bold\"> Trainable params: </span><span style=\"color: #00af00; text-decoration-color: #00af00\">1,586,244</span> (6.05 MB)\n",
       "</pre>\n"
      ],
      "text/plain": [
       "\u001b[1m Trainable params: \u001b[0m\u001b[38;5;34m1,586,244\u001b[0m (6.05 MB)\n"
      ]
     },
     "metadata": {},
     "output_type": "display_data"
    },
    {
     "data": {
      "text/html": [
       "<pre style=\"white-space:pre;overflow-x:auto;line-height:normal;font-family:Menlo,'DejaVu Sans Mono',consolas,'Courier New',monospace\"><span style=\"font-weight: bold\"> Non-trainable params: </span><span style=\"color: #00af00; text-decoration-color: #00af00\">0</span> (0.00 B)\n",
       "</pre>\n"
      ],
      "text/plain": [
       "\u001b[1m Non-trainable params: \u001b[0m\u001b[38;5;34m0\u001b[0m (0.00 B)\n"
      ]
     },
     "metadata": {},
     "output_type": "display_data"
    }
   ],
   "source": [
    "from keras.models import Sequential\n",
    "from keras.layers import Conv2D, MaxPooling2D, Flatten, Dense\n",
    "\n",
    "input_shape = (IMG_HEIGHT, IMG_WIDTH, IMG_CHANNELS) \n",
    "\n",
    "num_classes = len(CLASS_NAMES)  \n",
    "\n",
    "weather_model_3 = Sequential(name='Weather_CNN')\n",
    "\n",
    "# Adding the first Conv2D layer with 32 filters, a kernel size of 3x3, and ReLU activation\n",
    "weather_model_3.add(Conv2D(filters=32, kernel_size=3, activation='relu', input_shape=input_shape))\n",
    "\n",
    "# Adding the first MaxPooling2D layer with a pool size of 2x2\n",
    "weather_model_3.add(MaxPooling2D(pool_size=2))\n",
    "\n",
    "# Adding the second Conv2D layer with 64 filters, a kernel size of 3x3, and ReLU activation\n",
    "weather_model_3.add(Conv2D(filters=64, kernel_size=3, activation='relu'))\n",
    "\n",
    "# Adding the second MaxPooling2D layer with a pool size of 2x2\n",
    "weather_model_3.add(MaxPooling2D(pool_size=2))\n",
    "\n",
    "# Adding the third Conv2D layer with 128 filters, a kernel size of 3x3, and ReLU activation\n",
    "weather_model_3.add(Conv2D(filters=128, kernel_size=3, activation='relu'))\n",
    "\n",
    "# Flattening the output of the last pooling layer\n",
    "weather_model_3.add(Flatten())\n",
    "\n",
    "# Adding a Dense (fully connected) layer with a number of neurons equal to the number of classes and softmax activation\n",
    "weather_model_3.add(Dense(num_classes, activation='softmax'))\n",
    "\n",
    "# Compiling the model with the Adam optimizer, categorical crossentropy loss, and accuracy metric\n",
    "weather_model_3.compile(optimizer='adam', loss='categorical_crossentropy', metrics=['accuracy'])\n",
    "\n",
    "weather_model_3.summary()"
   ]
  },
  {
   "cell_type": "code",
   "execution_count": 28,
   "metadata": {},
   "outputs": [
    {
     "name": "stdout",
     "output_type": "stream",
     "text": [
      "Epoch 1/10\n",
      "\u001b[1m25/25\u001b[0m \u001b[32m━━━━━━━━━━━━━━━━━━━━\u001b[0m\u001b[37m\u001b[0m \u001b[1m21s\u001b[0m 743ms/step - accuracy: 0.4538 - loss: 3.6145 - val_accuracy: 0.8623 - val_loss: 0.4525\n",
      "Epoch 2/10\n",
      "\u001b[1m25/25\u001b[0m \u001b[32m━━━━━━━━━━━━━━━━━━━━\u001b[0m\u001b[37m\u001b[0m \u001b[1m18s\u001b[0m 711ms/step - accuracy: 0.8236 - loss: 0.5381 - val_accuracy: 0.8982 - val_loss: 0.3968\n",
      "Epoch 3/10\n",
      "\u001b[1m25/25\u001b[0m \u001b[32m━━━━━━━━━━━━━━━━━━━━\u001b[0m\u001b[37m\u001b[0m \u001b[1m18s\u001b[0m 736ms/step - accuracy: 0.8710 - loss: 0.3589 - val_accuracy: 0.8623 - val_loss: 0.3604\n",
      "Epoch 4/10\n",
      "\u001b[1m25/25\u001b[0m \u001b[32m━━━━━━━━━━━━━━━━━━━━\u001b[0m\u001b[37m\u001b[0m \u001b[1m17s\u001b[0m 694ms/step - accuracy: 0.8694 - loss: 0.4028 - val_accuracy: 0.6707 - val_loss: 0.7827\n",
      "Epoch 5/10\n",
      "\u001b[1m25/25\u001b[0m \u001b[32m━━━━━━━━━━━━━━━━━━━━\u001b[0m\u001b[37m\u001b[0m \u001b[1m17s\u001b[0m 684ms/step - accuracy: 0.8281 - loss: 0.4582 - val_accuracy: 0.8982 - val_loss: 0.3684\n"
     ]
    },
    {
     "data": {
      "text/plain": [
       "<keras.src.callbacks.history.History at 0x1f8380ed3d0>"
      ]
     },
     "execution_count": 28,
     "metadata": {},
     "output_type": "execute_result"
    }
   ],
   "source": [
    "#Training the model using the training dataset with early stopping\n",
    "weather_model_3.fit(train_dataset, validation_data=eval_dataset, epochs=10, callbacks=[keras.callbacks.EarlyStopping(patience=2)])\n"
   ]
  },
  {
   "cell_type": "code",
   "execution_count": 29,
   "metadata": {},
   "outputs": [
    {
     "name": "stdout",
     "output_type": "stream",
     "text": [
      "\u001b[1m6/6\u001b[0m \u001b[32m━━━━━━━━━━━━━━━━━━━━\u001b[0m\u001b[37m\u001b[0m \u001b[1m1s\u001b[0m 135ms/step - accuracy: 0.8544 - loss: 0.3691\n",
      "Test accuracy: 0.876\n",
      "\u001b[1m25/25\u001b[0m \u001b[32m━━━━━━━━━━━━━━━━━━━━\u001b[0m\u001b[37m\u001b[0m \u001b[1m4s\u001b[0m 167ms/step - accuracy: 0.8843 - loss: 0.3079\n",
      "Training accuracy: 0.876\n"
     ]
    }
   ],
   "source": [
    "# Evaluate the model on the test dataset and print the test accuracy\n",
    "test_loss_3, test_acc_3=weather_model_3.evaluate(test_dataset, batch_size=128)\n",
    "print(f\"Test accuracy: {test_acc_3:.3f}\")\n",
    "\n",
    "\n",
    "# Evaluate the model on the training dataset and print the training accuracy\n",
    "train_loss_3, train_acc_3=weather_model_3.evaluate(train_dataset, batch_size=128)\n",
    "print(f\"Training accuracy: {test_acc_3:.3f}\")\n",
    "\n",
    "\n"
   ]
  },
  {
   "cell_type": "markdown",
   "metadata": {
    "id": "152E3mgdfnF_"
   },
   "source": [
    "### Task 3.2 Using pre-trained models (2 marks)\n",
    "\n",
    "Use MobileNet, pre-trained on imagenet as discussed in the lectures. Add the correct classification layer, and train it with your data. Make sure that you freeze MobileNet's weights during training. Also, make sure you use a reasonable schedule for the learning rate."
   ]
  },
  {
   "cell_type": "markdown",
   "metadata": {},
   "source": [
    "## 3.2 Fine-Tuning a Pre-trained MobileNet Model"
   ]
  },
  {
   "cell_type": "code",
   "execution_count": 30,
   "metadata": {
    "id": "FOeToHlyfnF_"
   },
   "outputs": [
    {
     "data": {
      "image/png": "[encoded data removed]",
      "text/plain": [
       "<Figure size 640x480 with 1 Axes>"
      ]
     },
     "metadata": {},
     "output_type": "display_data"
    },
    {
     "name": "stdout",
     "output_type": "stream",
     "text": [
      "Learning rate schedule: 0.08 to 0.08 to 0.0114\n"
     ]
    }
   ],
   "source": [
    "from matplotlib import pyplot as plt\n",
    "\n",
    "EPOCHS = 10\n",
    "\n",
    "# Define the learning rate schedule\n",
    "LR_START = 0.00001\n",
    "LR_MAX = 0.08\n",
    "LR_MIN = 0.0008\n",
    "LR_RAMPUP_EPOCHS = 0\n",
    "LR_SUSTAIN_EPOCHS = 0\n",
    "LR_EXP_DECAY = .8\n",
    "# Function to calculate the learning rate for each epoch\n",
    "def lrfn(epoch):\n",
    "    if epoch < LR_RAMPUP_EPOCHS:\n",
    "        lr = (LR_MAX - LR_START) / LR_RAMPUP_EPOCHS * epoch + LR_START\n",
    "    elif epoch < LR_RAMPUP_EPOCHS + LR_SUSTAIN_EPOCHS:\n",
    "        lr = LR_MAX\n",
    "    else:\n",
    "        lr = (LR_MAX - LR_MIN) * LR_EXP_DECAY**(epoch - LR_RAMPUP_EPOCHS - LR_SUSTAIN_EPOCHS) + LR_MIN\n",
    "    return lr\n",
    "# Callback for updating the learning rate\n",
    "lr_callback = tf.keras.callbacks.LearningRateScheduler(lrfn, verbose=True)\n",
    "# Plot the learning rate schedule\n",
    "rng = [i for i in range(EPOCHS)]\n",
    "y = [lrfn(x) for x in rng]\n",
    "plt.plot(rng, y)\n",
    "plt.title(\"Learning Rate Schedule\")\n",
    "plt.xlabel(\"Epoch\")\n",
    "plt.ylabel(\"Learning Rate\")\n",
    "plt.show()\n",
    "print(\"Learning rate schedule: {:.3g} to {:.3g} to {:.3g}\".format(y[0], max(y), y[-1]))\n"
   ]
  },
  {
   "cell_type": "code",
   "execution_count": 31,
   "metadata": {},
   "outputs": [
    {
     "name": "stderr",
     "output_type": "stream",
     "text": [
      "C:\\Users\\tahan\\AppData\\Local\\Temp\\ipykernel_14968\\1670676997.py:4: UserWarning: `input_shape` is undefined or non-square, or `rows` is not in [128, 160, 192, 224]. Weights for input shape (224, 224) will be loaded as the default.\n",
      "  mobilenet_model = tf.keras.applications.MobileNet(weights=\"imagenet\", input_shape=(IMG_HEIGHT, IMG_WIDTH, IMG_CHANNELS), include_top=False, pooling=\"avg\")\n"
     ]
    },
    {
     "data": {
      "text/html": [
       "<pre style=\"white-space:pre;overflow-x:auto;line-height:normal;font-family:Menlo,'DejaVu Sans Mono',consolas,'Courier New',monospace\"><span style=\"font-weight: bold\">Model: \"sequential\"</span>\n",
       "</pre>\n"
      ],
      "text/plain": [
       "\u001b[1mModel: \"sequential\"\u001b[0m\n"
      ]
     },
     "metadata": {},
     "output_type": "display_data"
    },
    {
     "data": {
      "text/html": [
       "<pre style=\"white-space:pre;overflow-x:auto;line-height:normal;font-family:Menlo,'DejaVu Sans Mono',consolas,'Courier New',monospace\">┏━━━━━━━━━━━━━━━━━━━━━━━━━━━━━━━━━┳━━━━━━━━━━━━━━━━━━━━━━━━┳━━━━━━━━━━━━━━━┓\n",
       "┃<span style=\"font-weight: bold\"> Layer (type)                    </span>┃<span style=\"font-weight: bold\"> Output Shape           </span>┃<span style=\"font-weight: bold\">       Param # </span>┃\n",
       "┡━━━━━━━━━━━━━━━━━━━━━━━━━━━━━━━━━╇━━━━━━━━━━━━━━━━━━━━━━━━╇━━━━━━━━━━━━━━━┩\n",
       "│ mobilenet_1.00_224 (<span style=\"color: #0087ff; text-decoration-color: #0087ff\">Functional</span>) │ ?                      │     <span style=\"color: #00af00; text-decoration-color: #00af00\">3,228,864</span> │\n",
       "├─────────────────────────────────┼────────────────────────┼───────────────┤\n",
       "│ flower_prob (<span style=\"color: #0087ff; text-decoration-color: #0087ff\">Dense</span>)             │ ?                      │   <span style=\"color: #00af00; text-decoration-color: #00af00\">0</span> (unbuilt) │\n",
       "└─────────────────────────────────┴────────────────────────┴───────────────┘\n",
       "</pre>\n"
      ],
      "text/plain": [
       "┏━━━━━━━━━━━━━━━━━━━━━━━━━━━━━━━━━┳━━━━━━━━━━━━━━━━━━━━━━━━┳━━━━━━━━━━━━━━━┓\n",
       "┃\u001b[1m \u001b[0m\u001b[1mLayer (type)                   \u001b[0m\u001b[1m \u001b[0m┃\u001b[1m \u001b[0m\u001b[1mOutput Shape          \u001b[0m\u001b[1m \u001b[0m┃\u001b[1m \u001b[0m\u001b[1m      Param #\u001b[0m\u001b[1m \u001b[0m┃\n",
       "┡━━━━━━━━━━━━━━━━━━━━━━━━━━━━━━━━━╇━━━━━━━━━━━━━━━━━━━━━━━━╇━━━━━━━━━━━━━━━┩\n",
       "│ mobilenet_1.00_224 (\u001b[38;5;33mFunctional\u001b[0m) │ ?                      │     \u001b[38;5;34m3,228,864\u001b[0m │\n",
       "├─────────────────────────────────┼────────────────────────┼───────────────┤\n",
       "│ flower_prob (\u001b[38;5;33mDense\u001b[0m)             │ ?                      │   \u001b[38;5;34m0\u001b[0m (unbuilt) │\n",
       "└─────────────────────────────────┴────────────────────────┴───────────────┘\n"
      ]
     },
     "metadata": {},
     "output_type": "display_data"
    },
    {
     "data": {
      "text/html": [
       "<pre style=\"white-space:pre;overflow-x:auto;line-height:normal;font-family:Menlo,'DejaVu Sans Mono',consolas,'Courier New',monospace\"><span style=\"font-weight: bold\"> Total params: </span><span style=\"color: #00af00; text-decoration-color: #00af00\">3,228,864</span> (12.32 MB)\n",
       "</pre>\n"
      ],
      "text/plain": [
       "\u001b[1m Total params: \u001b[0m\u001b[38;5;34m3,228,864\u001b[0m (12.32 MB)\n"
      ]
     },
     "metadata": {},
     "output_type": "display_data"
    },
    {
     "data": {
      "text/html": [
       "<pre style=\"white-space:pre;overflow-x:auto;line-height:normal;font-family:Menlo,'DejaVu Sans Mono',consolas,'Courier New',monospace\"><span style=\"font-weight: bold\"> Trainable params: </span><span style=\"color: #00af00; text-decoration-color: #00af00\">0</span> (0.00 B)\n",
       "</pre>\n"
      ],
      "text/plain": [
       "\u001b[1m Trainable params: \u001b[0m\u001b[38;5;34m0\u001b[0m (0.00 B)\n"
      ]
     },
     "metadata": {},
     "output_type": "display_data"
    },
    {
     "data": {
      "text/html": [
       "<pre style=\"white-space:pre;overflow-x:auto;line-height:normal;font-family:Menlo,'DejaVu Sans Mono',consolas,'Courier New',monospace\"><span style=\"font-weight: bold\"> Non-trainable params: </span><span style=\"color: #00af00; text-decoration-color: #00af00\">3,228,864</span> (12.32 MB)\n",
       "</pre>\n"
      ],
      "text/plain": [
       "\u001b[1m Non-trainable params: \u001b[0m\u001b[38;5;34m3,228,864\u001b[0m (12.32 MB)\n"
      ]
     },
     "metadata": {},
     "output_type": "display_data"
    },
    {
     "name": "stdout",
     "output_type": "stream",
     "text": [
      "Epoch 1/10\n",
      "\u001b[1m25/25\u001b[0m \u001b[32m━━━━━━━━━━━━━━━━━━━━\u001b[0m\u001b[37m\u001b[0m \u001b[1m18s\u001b[0m 543ms/step - categorical_accuracy: 0.4026 - loss: 1.3371 - val_categorical_accuracy: 0.7904 - val_loss: 0.5316\n",
      "Epoch 2/10\n",
      "\u001b[1m25/25\u001b[0m \u001b[32m━━━━━━━━━━━━━━━━━━━━\u001b[0m\u001b[37m\u001b[0m \u001b[1m12s\u001b[0m 469ms/step - categorical_accuracy: 0.8540 - loss: 0.4907 - val_categorical_accuracy: 0.8563 - val_loss: 0.3131\n",
      "Epoch 3/10\n",
      "\u001b[1m25/25\u001b[0m \u001b[32m━━━━━━━━━━━━━━━━━━━━\u001b[0m\u001b[37m\u001b[0m \u001b[1m12s\u001b[0m 496ms/step - categorical_accuracy: 0.9252 - loss: 0.3044 - val_categorical_accuracy: 0.9042 - val_loss: 0.2455\n",
      "Epoch 4/10\n",
      "\u001b[1m25/25\u001b[0m \u001b[32m━━━━━━━━━━━━━━━━━━━━\u001b[0m\u001b[37m\u001b[0m \u001b[1m13s\u001b[0m 509ms/step - categorical_accuracy: 0.9386 - loss: 0.2324 - val_categorical_accuracy: 0.9222 - val_loss: 0.2086\n",
      "Epoch 5/10\n",
      "\u001b[1m25/25\u001b[0m \u001b[32m━━━━━━━━━━━━━━━━━━━━\u001b[0m\u001b[37m\u001b[0m \u001b[1m12s\u001b[0m 469ms/step - categorical_accuracy: 0.9508 - loss: 0.1923 - val_categorical_accuracy: 0.9281 - val_loss: 0.1843\n",
      "Epoch 6/10\n",
      "\u001b[1m25/25\u001b[0m \u001b[32m━━━━━━━━━━━━━━━━━━━━\u001b[0m\u001b[37m\u001b[0m \u001b[1m12s\u001b[0m 475ms/step - categorical_accuracy: 0.9579 - loss: 0.1642 - val_categorical_accuracy: 0.9341 - val_loss: 0.1669\n",
      "Epoch 7/10\n",
      "\u001b[1m25/25\u001b[0m \u001b[32m━━━━━━━━━━━━━━━━━━━━\u001b[0m\u001b[37m\u001b[0m \u001b[1m12s\u001b[0m 464ms/step - categorical_accuracy: 0.9646 - loss: 0.1431 - val_categorical_accuracy: 0.9581 - val_loss: 0.1543\n",
      "Epoch 8/10\n",
      "\u001b[1m25/25\u001b[0m \u001b[32m━━━━━━━━━━━━━━━━━━━━\u001b[0m\u001b[37m\u001b[0m \u001b[1m12s\u001b[0m 483ms/step - categorical_accuracy: 0.9689 - loss: 0.1268 - val_categorical_accuracy: 0.9521 - val_loss: 0.1451\n",
      "Epoch 9/10\n",
      "\u001b[1m25/25\u001b[0m \u001b[32m━━━━━━━━━━━━━━━━━━━━\u001b[0m\u001b[37m\u001b[0m \u001b[1m11s\u001b[0m 454ms/step - categorical_accuracy: 0.9718 - loss: 0.1139 - val_categorical_accuracy: 0.9521 - val_loss: 0.1382\n",
      "Epoch 10/10\n",
      "\u001b[1m25/25\u001b[0m \u001b[32m━━━━━━━━━━━━━━━━━━━━\u001b[0m\u001b[37m\u001b[0m \u001b[1m14s\u001b[0m 548ms/step - categorical_accuracy: 0.9794 - loss: 0.1033 - val_categorical_accuracy: 0.9581 - val_loss: 0.1327\n"
     ]
    }
   ],
   "source": [
    "LEARNING_RATE = 0.001\n",
    "\n",
    "# Fetching the pre-trained MobileNet model\n",
    "mobilenet_model = tf.keras.applications.MobileNet(weights=\"imagenet\", input_shape=(IMG_HEIGHT, IMG_WIDTH, IMG_CHANNELS), include_top=False, pooling=\"avg\")\n",
    "\n",
    "# Freezing the layers of the MobileNet model\n",
    "for layer in mobilenet_model.layers:\n",
    "    layer.trainable = False\n",
    "\n",
    "# Initializing the model and add the pre-trained MobileNet    \n",
    "model_4 = tf.keras.Sequential()\n",
    "model_4.add(mobilenet_model)\n",
    "\n",
    "# Adding a Dense layer as the output classification layer\n",
    "model_4.add(tf.keras.layers.Dense(len(CLASS_NAMES), activation='softmax', name='flower_prob'))\n",
    "\n",
    "# Compiling the model with the Adam optimizer and categorical crossentropy loss\n",
    "model_4.compile(\n",
    "    optimizer=tf.keras.optimizers.Adam(learning_rate=LEARNING_RATE),\n",
    "    loss = 'categorical_crossentropy',\n",
    "    metrics=['categorical_accuracy']\n",
    ")\n",
    "\n",
    "model_4.summary()\n",
    "\n",
    "# Training the model with the training dataset and early stopping\n",
    "history = model_4.fit(train_dataset, validation_data=eval_dataset, epochs=EPOCHS, callbacks=[tf.keras.callbacks.EarlyStopping(monitor=\"val_loss\", patience=2)])\n",
    "\n"
   ]
  },
  {
   "cell_type": "code",
   "execution_count": 32,
   "metadata": {},
   "outputs": [
    {
     "name": "stdout",
     "output_type": "stream",
     "text": [
      "\u001b[1m6/6\u001b[0m \u001b[32m━━━━━━━━━━━━━━━━━━━━\u001b[0m\u001b[37m\u001b[0m \u001b[1m2s\u001b[0m 360ms/step - categorical_accuracy: 0.9645 - loss: 0.1204\n",
      "Test accuracy: 0.953\n",
      "\u001b[1m25/25\u001b[0m \u001b[32m━━━━━━━━━━━━━━━━━━━━\u001b[0m\u001b[37m\u001b[0m \u001b[1m11s\u001b[0m 420ms/step - categorical_accuracy: 0.9788 - loss: 0.0947\n",
      "Training accuracy: 0.953\n"
     ]
    }
   ],
   "source": [
    "# Evaluate the model on the test dataset and print the test accuracy\n",
    "test_loss_4, test_acc_4 = model_4.evaluate(test_dataset, batch_size=128)\n",
    "print(f\"Test accuracy: {test_acc_4:.3f}\")\n",
    "\n",
    "# Evaluate the model on the test dataset and print the test accuracy\n",
    "train_loss_4, train_acc_4 = model_4.evaluate(train_dataset, batch_size=128)\n",
    "print(f\"Training accuracy: {test_acc_4:.3f}\")\n",
    "\n",
    "\n"
   ]
  },
  {
   "cell_type": "markdown",
   "metadata": {
    "id": "sb0NTIk1fnGA"
   },
   "source": [
    "### Task 3.3 Comparative evaluation (1 mark)\n",
    "\n",
    "Compare the evaluation results of the best systems from tasks 3.1 and 3.2 and answer the following questions.\n",
    "\n",
    "1. What system (including the systems you developed in Task 2) perform best on the test set?\n",
    "2. Report the accuracy of your best system on each of the different weather categories. What type of weather was most difficult to detect?"
   ]
  },
  {
   "cell_type": "markdown",
   "metadata": {},
   "source": [
    "To answer question 1 and determine which system performs best on the test set, we will visualize the four accuracies by plotting them on a bar graph. A bar graph is an effective way to compare numerical values across different categories—in this case, the performance of the four classifiers. By representing each classifier's test accuracy as a bar, we can easily see which classifier has the highest accuracy and how they rank relative to each other.\n"
   ]
  },
  {
   "cell_type": "code",
   "execution_count": 33,
   "metadata": {
    "id": "Xm9mYpAzfnGA"
   },
   "outputs": [
    {
     "data": {
      "image/png": "[encoded data removed]",
      "text/plain": [
       "<Figure size 1400x800 with 1 Axes>"
      ]
     },
     "metadata": {},
     "output_type": "display_data"
    }
   ],
   "source": [
    "import matplotlib.pyplot as plt\n",
    "\n",
    "# Dictionary to hold classifier names and their corresponding test accuracies\n",
    "classifier_accuracies = {\n",
    "    'First_Classifier': test_acc,  \n",
    "    'Second_Classifier': test_acc_2,  \n",
    "    'Third_Classifier': test_acc_3,  \n",
    "    'Fourth_Classifier': test_acc_4  \n",
    "}\n",
    "\n",
    "# Extract classifier names and their accuracies for plotting\n",
    "classifier_names = list(classifier_accuracies.keys())\n",
    "accuracy_values = list(classifier_accuracies.values())\n",
    "\n",
    "# Creating a figure and axis for the bar graph\n",
    "fig, ax = plt.subplots(figsize=(14, 8))\n",
    "\n",
    "# Setting the limits for the y-axis\n",
    "ax.set_ylim([0, 1.0])\n",
    "\n",
    "# Creating the bar graph\n",
    "ax.bar(classifier_names, accuracy_values, color='skyblue')\n",
    "\n",
    "# Displaying the accuracies above the bars\n",
    "for i, acc in enumerate(accuracy_values):\n",
    "    plt.text(i, acc, f\"{acc:.4f}\", ha='center', va='bottom')\n",
    "\n",
    "# Setting the title and labels for the graph\n",
    "plt.title(\"Comparison of Classifier Accuracies\")\n",
    "plt.xlabel(\"Classifier\")\n",
    "plt.ylabel(\"Accuracy\")\n",
    "\n",
    "# Displaying the bar graph\n",
    "plt.show()\n"
   ]
  },
  {
   "cell_type": "markdown",
   "metadata": {},
   "source": [
    "### 1. What system (including the systems you developed in Task 2) perform best on the test set?\n"
   ]
  },
  {
   "cell_type": "markdown",
   "metadata": {
    "id": "7z1D7X0vfnGB"
   },
   "source": [
    "The bar graph provided shows the test set accuracies of four different classifiers. The first classifier has the lowest accuracy, which is likely because it is a simple model with just a `Flatten` layer and an output layer. This basic structure may not be capable of capturing the complex patterns in the data, leading to lower performance.\n",
    "\n",
    "The second classifier shows moderate accuracy, which is an improvement over the first. This classifier is more complex, with one or more hidden layers and dropout, which helps prevent overfitting. The use of `keras-tuner` to optimize the hyperparameters like the number of hidden layers, sizes of hidden layers, dropout rate, and learning rate contributes to its better performance compared to the first classifier.\n",
    "\n",
    "The third classifier performs better than the second, and this improvement can be attributed to its convolutional neural network (CNN) architecture. This model uses a sequence of convolutional layers (`Conv2D`) followed by max pooling layers (`MaxPooling2D`), which are particularly effective for image recognition tasks. The convolutional layers help the model learn hierarchical feature representations of the images, while the pooling layers reduce the spatial size of the representations, making the model more efficient and less prone to overfitting.\n",
    "\n",
    "Finally, the fourth classifier, which uses a pre-trained model, outperforms all the previous classifiers. Pre-trained models come with weights that have already been optimized on a large dataset, allowing them to transfer learned features to the new task. This transfer learning approach, combined with fine-tuning on the specific dataset, often leads to higher accuracy, as the model can leverage its pre-existing knowledge of image features.\n",
    "\n",
    "In summary, the graph illustrates the progression from a simple to a more sophisticated model architecture, with each step up in complexity resulting in improved accuracy on the test set. The use of a pre-trained model for the fourth classifier demonstrates the significant advantage that transfer learning can provide in machine learning tasks.\n"
   ]
  },
  {
   "cell_type": "code",
   "execution_count": 34,
   "metadata": {},
   "outputs": [
    {
     "name": "stdout",
     "output_type": "stream",
     "text": [
      "['sunrise', 'shine', 'rain', 'cloudy']\n"
     ]
    }
   ],
   "source": [
    "print(CLASS_NAMES)"
   ]
  },
  {
   "cell_type": "markdown",
   "metadata": {},
   "source": [
    "### 2. Report the accuracy of your best system on each of the different weather categories. What type of weather was most difficult to detect?"
   ]
  },
  {
   "cell_type": "code",
   "execution_count": 35,
   "metadata": {},
   "outputs": [],
   "source": [
    "from collections import Counter\n",
    "import numpy as np\n",
    "import tensorflow as tf\n",
    "\n",
    "# Function to calculate the accuracy for each class\n",
    "def calculate_class_accuracy(model, dataset):\n",
    "    # Predicting the classes for the dataset and getting the class index with the highest probability\n",
    "    predicted_classes = np.argmax(model.predict(dataset), axis=1)\n",
    "    \n",
    "    # Initializing an array to hold the true labels and a counter for each class\n",
    "    true_labels = []\n",
    "    class_counts = Counter()\n",
    "    \n",
    "    # Iterating over the dataset to extract the true labels and count them\n",
    "    for _, labels in dataset:\n",
    "        labels = np.argmax(labels.numpy(), axis=1)  # Converting one-hot encoded labels to class indices\n",
    "        true_labels.extend(labels)\n",
    "        class_counts.update(labels)\n",
    "    \n",
    "    # Counting the number of correct predictions for each class\n",
    "    correct_predictions = Counter()\n",
    "    for i, predicted_class in enumerate(predicted_classes):\n",
    "        if predicted_class == true_labels[i]:\n",
    "            correct_predictions.update([predicted_class])\n",
    "    \n",
    "    # Calculating the accuracy for each class\n",
    "    class_accuracies = {}\n",
    "    for class_index, count in class_counts.items():\n",
    "        accuracy = correct_predictions[class_index] / count\n",
    "        class_accuracies[class_index] = accuracy\n",
    "    \n",
    "    # Returning the accuracies as a list\n",
    "    return [class_accuracies[i] for i in range(len(class_accuracies))]\n",
    "\n"
   ]
  },
  {
   "cell_type": "code",
   "execution_count": 36,
   "metadata": {},
   "outputs": [
    {
     "name": "stdout",
     "output_type": "stream",
     "text": [
      "\u001b[1m6/6\u001b[0m \u001b[32m━━━━━━━━━━━━━━━━━━━━\u001b[0m\u001b[37m\u001b[0m \u001b[1m0s\u001b[0m 12ms/step\n",
      "Accuracies for first_classifier: [0.9183673469387755, 0.0, 0.9705882352941176, 0.2549019607843137]\n",
      "\u001b[1m6/6\u001b[0m \u001b[32m━━━━━━━━━━━━━━━━━━━━\u001b[0m\u001b[37m\u001b[0m \u001b[1m0s\u001b[0m 31ms/step\n",
      "Accuracies for second_classifier: [0.8775510204081632, 0.8, 0.9705882352941176, 0.49019607843137253]\n",
      "WARNING:tensorflow:5 out of the last 13 calls to <function TensorFlowTrainer.make_predict_function.<locals>.one_step_on_data_distributed at 0x000001F84885F7E0> triggered tf.function retracing. Tracing is expensive and the excessive number of tracings could be due to (1) creating @tf.function repeatedly in a loop, (2) passing tensors with different shapes, (3) passing Python objects instead of tensors. For (1), please define your @tf.function outside of the loop. For (2), @tf.function has reduce_retracing=True option that can avoid unnecessary retracing. For (3), please refer to https://www.tensorflow.org/guide/function#controlling_retracing and https://www.tensorflow.org/api_docs/python/tf/function for  more details.\n",
      "\u001b[1m6/6\u001b[0m \u001b[32m━━━━━━━━━━━━━━━━━━━━\u001b[0m\u001b[37m\u001b[0m \u001b[1m1s\u001b[0m 177ms/step\n",
      "Accuracies for weather_model_3: [0.9795918367346939, 0.6285714285714286, 1.0, 0.8627450980392157]\n",
      "WARNING:tensorflow:5 out of the last 13 calls to <function TensorFlowTrainer.make_predict_function.<locals>.one_step_on_data_distributed at 0x000001F8488C8220> triggered tf.function retracing. Tracing is expensive and the excessive number of tracings could be due to (1) creating @tf.function repeatedly in a loop, (2) passing tensors with different shapes, (3) passing Python objects instead of tensors. For (1), please define your @tf.function outside of the loop. For (2), @tf.function has reduce_retracing=True option that can avoid unnecessary retracing. For (3), please refer to https://www.tensorflow.org/guide/function#controlling_retracing and https://www.tensorflow.org/api_docs/python/tf/function for  more details.\n",
      "\u001b[1m6/6\u001b[0m \u001b[32m━━━━━━━━━━━━━━━━━━━━\u001b[0m\u001b[37m\u001b[0m \u001b[1m5s\u001b[0m 617ms/step\n",
      "Accuracies for accuracies_model_4: [0.9795918367346939, 0.8571428571428571, 1.0, 0.9607843137254902]\n"
     ]
    }
   ],
   "source": [
    "accuracies_first_classifier = calculate_class_accuracy(first_classifier, test_dataset)\n",
    "print(\"Accuracies for first_classifier:\", accuracies_first_classifier)\n",
    "\n",
    "accuracies_second_classifier = calculate_class_accuracy(second_classifier, test_dataset)\n",
    "print(\"Accuracies for second_classifier:\", accuracies_second_classifier)\n",
    "\n",
    "accuracies_weather_model_3 = calculate_class_accuracy(weather_model_3, test_dataset)\n",
    "print(\"Accuracies for weather_model_3:\", accuracies_weather_model_3 )\n",
    "\n",
    "accuracies_model_4 = calculate_class_accuracy(model_4, test_dataset)\n",
    "print(\"Accuracies for accuracies_model_4:\", accuracies_model_4)"
   ]
  },
  {
   "cell_type": "code",
   "execution_count": 37,
   "metadata": {},
   "outputs": [
    {
     "data": {
      "image/png": "[encoded data removed]",
      "text/plain": [
       "<Figure size 1000x1000 with 1 Axes>"
      ]
     },
     "metadata": {},
     "output_type": "display_data"
    }
   ],
   "source": [
    "df = pd.DataFrame({\n",
    "    'First Classifier': accuracies_first_classifier,\n",
    "    'Second Classifier': accuracies_second_classifier,\n",
    "    'Weather Model 3': accuracies_weather_model_3,\n",
    "    'Model 4': accuracies_model_4\n",
    "})\n",
    "df = df.rename(index=dict(zip(range(len(CLASS_NAMES)), CLASS_NAMES)))\n",
    "ax = df.plot(kind='bar', figsize=(10, 10), rot=0, title=\"Comparison of Weather Model Performance\", xlabel=\"Weather Categories\", ylabel=\"Accuracy\")\n",
    "plt.show()"
   ]
  },
  {
   "cell_type": "markdown",
   "metadata": {},
   "source": [
    "Based on the bar graph provided, we can analyze the performance of each classifier across the different weather categories and determine which type of weather was most difficult to detect.\n",
    "\n",
    "From the bar graph, we can observe the following accuracies for each classifier and weather category:\n",
    "\n",
    "- **Sunrise**:\n",
    "  - First Classifier: ~0.91\n",
    "  - Second Classifier: ~0.87\n",
    "  - Weather Model 3: ~0.97\n",
    "  - Model 4: ~0.97\n",
    "\n",
    "- **Shine**:\n",
    "  - First Classifier: 0\n",
    "  - Second Classifier: 0.80\n",
    "  - Weather Model 3: ~0.62\n",
    "  - Model 4: ~0.85\n",
    "\n",
    "- **Rain**:\n",
    "  - First Classifier: ~0.97\n",
    "  - Second Classifier: ~0.97\n",
    "  - Weather Model 3: 1.0\n",
    "  - Model 4: 1.0\n",
    "\n",
    "- **Cloudy**:\n",
    "  - First Classifier: ~0.25\n",
    "  - Second Classifier: ~0.49\n",
    "  - Weather Model 3: ~0.86\n",
    "  - Model 4: ~0.96\n",
    "\n",
    "From these observations, we can answer the questions as follows:\n",
    "\n",
    "1. **Best System on the Test Set**:  Model 4 (Pre-trained model) consistently shows high accuracy across all weather categories, achieving perfect or near-perfect scores in the sunrise and rain categories and the highest score in the shine category compared to other models. Therefore, Model 4 is the best-performing system on the test set.\n",
    "\n",
    "2. **Accuracy of the Best System on Each Weather Category**:\n",
    "   - For **sunrise**, Model 4 has an accuracy of approximately 97%.\n",
    "   - For **shine**,  Model 4 has an accuracy of approximately 85%.\n",
    "   - For **rain**,  Model 4 again has an accuracy of approximately 100%.\n",
    "   - For **cloudy**, Model 4 has the highest accuracy among the classifiers at approximately 96%.\n",
    "\n",
    "**Most Difficult Weather to Detect**: Based on the accuracies, the most difficult type of weather to detect is **shine**. All classifiers perform the worst in this category with first classifier unable to detect it. However, Model 4 achieved the highest accuracy of approximately 85%, which is significantly lower than its performance on other weather types.\n",
    "\n",
    "Another interesting observation is that first_classifier performs fairly well on Sunrise and Rain categories against second_classifier. In the case of Sunrise it surpasses the second_classifier's accuracy and in the case of Rain it equals the accuracy, which is quite surprsing. \n",
    "\n",
    "In conclusion, Model 4 outperforms the other classifiers in all weather categories, with shine weather being the most challenging to classify accurately. Despite the difficulty, Model 4 still manages to achieve the highest accuracy for shine conditions compared to the other models.\n"
   ]
  },
  {
   "cell_type": "markdown",
   "metadata": {
    "id": "IO8FOQBXfnGC"
   },
   "source": [
    "## GitHub Classroom (1 mark)\n",
    "\n",
    "These marks will be given to submissions that:\n",
    "\n",
    "- Have continuously committed changes to the GitHub repository at GitHub Classroom.\n",
    "- The commit messages are useful and informative."
   ]
  },
  {
   "cell_type": "markdown",
   "metadata": {
    "id": "QTQVETEdfnGB"
   },
   "source": [
    "## Coding (1 mark)\n",
    "\n",
    "This mark will be assigned to submissions that have clean and efficient code and good in-code documentation of all code presented in this assignment."
   ]
  },
  {
   "cell_type": "markdown",
   "metadata": {
    "id": "-cqXz5HqfnGC"
   },
   "source": [
    "# Submission\n",
    "\n",
    "Your submission should consist of this Jupyter notebook with all your code and explanations inserted into the notebook as text cells. **The notebook should contain the output of the runs. All code should run. Code with syntax errors or code without output will not be assessed.**\n",
    "\n",
    "**Do not submit multiple files. If you feel you need to submit multiple files, please contact Diego.Molla-Aliod@mq.edu.au first.**\n",
    "\n",
    "Examine the text cells of this notebook so that you can have an idea of how to format text for good visual impact. You can also read this useful [guide to the MarkDown notation](https://daringfireball.net/projects/markdown/syntax), which explains the format of the text cells.\n",
    "\n",
    "Each task specifies a number of marks. The final mark of the assignment is the sum of all the marks of each individual task.\n",
    "\n",
    "By submitting this assignment you are acknowledging that this is your own work. Any submissions that break the code of academic honesty will be penalised as per [the academic integrity policy](https://policies.mq.edu.au/document/view.php?id=3).\n",
    "\n",
    "## A note on the use of AI code generators\n",
    "\n",
    "In this assignment, we view AI code generators such as copilot, CodeGPT, etc as tools that can help you write code quickly. You are allowed to use these tools, but with some conditions. To understand what you can and what you cannot do, please visit these information pages provided by Macquarie University.\n",
    "\n",
    "- Artificial Intelligence Tools and Academic Integrity in FSE - https://bit.ly/3uxgQP4\n",
    "\n",
    "If you choose to use these tools, make the following explicit in your Jupyter notebook, under a section with heading \"Use of AI generators in this assignment\" :\n",
    "\n",
    "- What part of your code is based on the output of such tools,\n",
    "- What tools you used,\n",
    "- What prompts you used to generate the code or text, and\n",
    "- What modifications you made on the generated code or text.\n",
    "\n",
    "This will help us assess your work fairly.\n"
   ]
  },
  {
   "cell_type": "markdown",
   "metadata": {},
   "source": []
  }
 ],
 "metadata": {
  "accelerator": "GPU",
  "colab": {
   "gpuType": "T4",
   "provenance": []
  },
  "kernelspec": {
   "display_name": "Python 3",
   "language": "python",
   "name": "python3"
  },
  "language_info": {
   "codemirror_mode": {
    "name": "ipython",
    "version": 3
   },
   "file_extension": ".py",
   "mimetype": "text/x-python",
   "name": "python",
   "nbconvert_exporter": "python",
   "pygments_lexer": "ipython3",
   "version": "3.11.8"
  }
 },
 "nbformat": 4,
 "nbformat_minor": 1
}
